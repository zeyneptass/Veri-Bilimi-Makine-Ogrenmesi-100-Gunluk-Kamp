{
 "cells": [
  {
   "cell_type": "markdown",
   "id": "14674c9c",
   "metadata": {},
   "source": [
    "# Döngüler"
   ]
  },
  {
   "cell_type": "markdown",
   "id": "08def0da",
   "metadata": {},
   "source": [
    "## For Loop"
   ]
  },
  {
   "cell_type": "markdown",
   "id": "23e67f3e",
   "metadata": {},
   "source": [
    "Aşağıdaki list'teki her elemanı 5'e bölüp ikiyle çarpma işlemi nasıl yaparız?"
   ]
  },
  {
   "cell_type": "code",
   "execution_count": 1,
   "id": "799e74ad",
   "metadata": {},
   "outputs": [],
   "source": [
    "my_list = [10,20,30,40,50,60,70]"
   ]
  },
  {
   "cell_type": "code",
   "execution_count": 2,
   "id": "cdf35347",
   "metadata": {},
   "outputs": [
    {
     "data": {
      "text/plain": [
       "4.0"
      ]
     },
     "execution_count": 2,
     "metadata": {},
     "output_type": "execute_result"
    }
   ],
   "source": [
    "my_list[0] /5 *2"
   ]
  },
  {
   "cell_type": "code",
   "execution_count": 3,
   "id": "10ab8e38",
   "metadata": {},
   "outputs": [
    {
     "data": {
      "text/plain": [
       "8.0"
      ]
     },
     "execution_count": 3,
     "metadata": {},
     "output_type": "execute_result"
    }
   ],
   "source": [
    "my_list[1] /5 *2"
   ]
  },
  {
   "cell_type": "markdown",
   "id": "8d474cfa",
   "metadata": {},
   "source": [
    "Döngü ile kolay bir şekilde yapılır."
   ]
  },
  {
   "cell_type": "code",
   "execution_count": 6,
   "id": "04846aef",
   "metadata": {},
   "outputs": [
    {
     "name": "stdout",
     "output_type": "stream",
     "text": [
      "10\n",
      "20\n",
      "30\n",
      "40\n",
      "50\n",
      "60\n",
      "70\n"
     ]
    }
   ],
   "source": [
    "for number in my_list:\n",
    "    print(number)"
   ]
  },
  {
   "cell_type": "code",
   "execution_count": 7,
   "id": "5e02e28c",
   "metadata": {},
   "outputs": [
    {
     "name": "stdout",
     "output_type": "stream",
     "text": [
      "4.0\n",
      "8.0\n",
      "12.0\n",
      "16.0\n",
      "20.0\n",
      "24.0\n",
      "28.0\n"
     ]
    }
   ],
   "source": [
    "for number in my_list:\n",
    "    print(number /5 * 2)"
   ]
  },
  {
   "cell_type": "code",
   "execution_count": 9,
   "id": "7a33fbe9",
   "metadata": {},
   "outputs": [
    {
     "name": "stdout",
     "output_type": "stream",
     "text": [
      "for loop started\n",
      "4.0\n",
      "8.0\n",
      "12.0\n",
      "16.0\n",
      "20.0\n",
      "24.0\n",
      "28.0\n",
      "for loop ended\n"
     ]
    }
   ],
   "source": [
    "print(\"for loop started\")\n",
    "for x in my_list:\n",
    "    new_number = x / 5 * 2\n",
    "    print(new_number)\n",
    "print(\"for loop ended\")"
   ]
  },
  {
   "cell_type": "markdown",
   "id": "4341d359",
   "metadata": {},
   "source": [
    "For içerisinde if control yapılabilr"
   ]
  },
  {
   "cell_type": "markdown",
   "id": "929c63f3",
   "metadata": {},
   "source": [
    "Listedeki elemanların sadece 6'ya tam bölünenlerini yazdır."
   ]
  },
  {
   "cell_type": "code",
   "execution_count": 12,
   "id": "35679437",
   "metadata": {},
   "outputs": [
    {
     "name": "stdout",
     "output_type": "stream",
     "text": [
      "30\n",
      "60\n"
     ]
    }
   ],
   "source": [
    "for number in my_list:\n",
    "    if number % 6 == 0:\n",
    "        print(number)\n",
    "    else:(\"6'ya tam bölünen sayı yok listede\")"
   ]
  },
  {
   "cell_type": "code",
   "execution_count": 13,
   "id": "51e91325",
   "metadata": {},
   "outputs": [],
   "source": [
    "number_list = [1,2,3,4,5,6,7,8,9,10]"
   ]
  },
  {
   "cell_type": "code",
   "execution_count": 14,
   "id": "8c2dc874",
   "metadata": {},
   "outputs": [
    {
     "name": "stdout",
     "output_type": "stream",
     "text": [
      "2\n",
      "4\n",
      "6\n",
      "8\n",
      "10\n"
     ]
    }
   ],
   "source": [
    "for num in number_list:\n",
    "    if num % 2 == 0:\n",
    "        print(num)"
   ]
  },
  {
   "cell_type": "code",
   "execution_count": 15,
   "id": "025fe1d2",
   "metadata": {},
   "outputs": [],
   "source": [
    "my_string= \"atil samancioglu\""
   ]
  },
  {
   "cell_type": "code",
   "execution_count": 16,
   "id": "80027eca",
   "metadata": {},
   "outputs": [
    {
     "name": "stdout",
     "output_type": "stream",
     "text": [
      "a\n",
      "t\n",
      "i\n",
      "l\n",
      " \n",
      "s\n",
      "a\n",
      "m\n",
      "a\n",
      "n\n",
      "c\n",
      "i\n",
      "o\n",
      "g\n",
      "l\n",
      "u\n"
     ]
    }
   ],
   "source": [
    "for c in my_string:\n",
    "    print(c)"
   ]
  },
  {
   "cell_type": "code",
   "execution_count": 17,
   "id": "f1a63dd1",
   "metadata": {},
   "outputs": [],
   "source": [
    "my_tuple = (10,20,30,40,50,60,70)"
   ]
  },
  {
   "cell_type": "code",
   "execution_count": 18,
   "id": "fb843b40",
   "metadata": {},
   "outputs": [
    {
     "name": "stdout",
     "output_type": "stream",
     "text": [
      "4.0\n",
      "8.0\n",
      "12.0\n",
      "16.0\n",
      "20.0\n",
      "24.0\n",
      "28.0\n"
     ]
    }
   ],
   "source": [
    "for num in my_tuple:\n",
    "    print(num / 5 * 2)"
   ]
  },
  {
   "cell_type": "code",
   "execution_count": 19,
   "id": "94927969",
   "metadata": {},
   "outputs": [
    {
     "data": {
      "text/plain": [
       "(10, 20, 30, 40, 50, 60, 70)"
      ]
     },
     "execution_count": 19,
     "metadata": {},
     "output_type": "execute_result"
    }
   ],
   "source": [
    "my_tuple"
   ]
  },
  {
   "cell_type": "code",
   "execution_count": 23,
   "id": "338f4306",
   "metadata": {},
   "outputs": [],
   "source": [
    "my_new_list = [(\"a\",\"b\"),(\"c\",\"d\"),(\"e\",\"f\"),(\"g\",\"f\")]"
   ]
  },
  {
   "cell_type": "code",
   "execution_count": 24,
   "id": "16e6c13f",
   "metadata": {},
   "outputs": [
    {
     "data": {
      "text/plain": [
       "4"
      ]
     },
     "execution_count": 24,
     "metadata": {},
     "output_type": "execute_result"
    }
   ],
   "source": [
    "len(my_new_list)"
   ]
  },
  {
   "cell_type": "code",
   "execution_count": 25,
   "id": "d1a03e92",
   "metadata": {},
   "outputs": [
    {
     "data": {
      "text/plain": [
       "('a', 'b')"
      ]
     },
     "execution_count": 25,
     "metadata": {},
     "output_type": "execute_result"
    }
   ],
   "source": [
    "my_new_list[0]"
   ]
  },
  {
   "cell_type": "code",
   "execution_count": 26,
   "id": "e556320a",
   "metadata": {},
   "outputs": [
    {
     "name": "stdout",
     "output_type": "stream",
     "text": [
      "('a', 'b')\n",
      "('c', 'd')\n",
      "('e', 'f')\n",
      "('g', 'f')\n"
     ]
    }
   ],
   "source": [
    "for element in my_new_list:\n",
    "    print(element)"
   ]
  },
  {
   "cell_type": "code",
   "execution_count": 27,
   "id": "8dae9273",
   "metadata": {},
   "outputs": [],
   "source": [
    "# tuple unpacking"
   ]
  },
  {
   "cell_type": "code",
   "execution_count": 29,
   "id": "f7714c5e",
   "metadata": {},
   "outputs": [
    {
     "data": {
      "text/plain": [
       "'b'"
      ]
     },
     "execution_count": 29,
     "metadata": {},
     "output_type": "execute_result"
    }
   ],
   "source": [
    "my_new_list[0][1]"
   ]
  },
  {
   "cell_type": "code",
   "execution_count": 30,
   "id": "4f4c2a22",
   "metadata": {},
   "outputs": [
    {
     "name": "stdout",
     "output_type": "stream",
     "text": [
      "a\n",
      "c\n",
      "e\n",
      "g\n"
     ]
    }
   ],
   "source": [
    "for (x,y) in my_new_list:\n",
    "    print(x)"
   ]
  },
  {
   "cell_type": "code",
   "execution_count": 31,
   "id": "b5f71fd2",
   "metadata": {},
   "outputs": [
    {
     "name": "stdout",
     "output_type": "stream",
     "text": [
      "b\n",
      "d\n",
      "f\n",
      "f\n"
     ]
    }
   ],
   "source": [
    "for (x,y) in my_new_list:\n",
    "    print(y)"
   ]
  },
  {
   "cell_type": "code",
   "execution_count": 33,
   "id": "0c0c52f5",
   "metadata": {},
   "outputs": [],
   "source": [
    "my_tuple_list = [(0,1,2),(3,4,5),(6,7,8),(9,10,11)]"
   ]
  },
  {
   "cell_type": "code",
   "execution_count": 34,
   "id": "fe795ab6",
   "metadata": {},
   "outputs": [
    {
     "data": {
      "text/plain": [
       "4"
      ]
     },
     "execution_count": 34,
     "metadata": {},
     "output_type": "execute_result"
    }
   ],
   "source": [
    "len(my_tuple_list)"
   ]
  },
  {
   "cell_type": "code",
   "execution_count": 35,
   "id": "a7c0cafd",
   "metadata": {},
   "outputs": [
    {
     "name": "stdout",
     "output_type": "stream",
     "text": [
      "0\n",
      "3\n",
      "6\n",
      "9\n"
     ]
    }
   ],
   "source": [
    "for (x,y,z) in my_tuple_list:\n",
    "    print(x)"
   ]
  },
  {
   "cell_type": "code",
   "execution_count": 36,
   "id": "7bb951f5",
   "metadata": {},
   "outputs": [],
   "source": [
    "my_set = {1,2,3,4,5}"
   ]
  },
  {
   "cell_type": "code",
   "execution_count": 37,
   "id": "4745b641",
   "metadata": {},
   "outputs": [
    {
     "data": {
      "text/plain": [
       "{1, 2, 3, 4, 5}"
      ]
     },
     "execution_count": 37,
     "metadata": {},
     "output_type": "execute_result"
    }
   ],
   "source": [
    "my_set"
   ]
  },
  {
   "cell_type": "code",
   "execution_count": 38,
   "id": "a2249f96",
   "metadata": {},
   "outputs": [
    {
     "data": {
      "text/plain": [
       "5"
      ]
     },
     "execution_count": 38,
     "metadata": {},
     "output_type": "execute_result"
    }
   ],
   "source": [
    "len(my_set)"
   ]
  },
  {
   "cell_type": "code",
   "execution_count": 39,
   "id": "3c935607",
   "metadata": {},
   "outputs": [
    {
     "data": {
      "text/plain": [
       "set"
      ]
     },
     "execution_count": 39,
     "metadata": {},
     "output_type": "execute_result"
    }
   ],
   "source": [
    "type(my_set)"
   ]
  },
  {
   "cell_type": "code",
   "execution_count": 40,
   "id": "1691c482",
   "metadata": {},
   "outputs": [
    {
     "name": "stdout",
     "output_type": "stream",
     "text": [
      "1\n",
      "2\n",
      "3\n",
      "4\n",
      "5\n"
     ]
    }
   ],
   "source": [
    "for num in my_set:\n",
    "    print(num)"
   ]
  },
  {
   "cell_type": "code",
   "execution_count": 41,
   "id": "f14d587b",
   "metadata": {},
   "outputs": [],
   "source": [
    "my_dictionary = {\"k1\":100,\"k2\":200,\"k3\":300}"
   ]
  },
  {
   "cell_type": "code",
   "execution_count": 42,
   "id": "45294044",
   "metadata": {},
   "outputs": [
    {
     "name": "stdout",
     "output_type": "stream",
     "text": [
      "k1\n",
      "k2\n",
      "k3\n"
     ]
    }
   ],
   "source": [
    "for element in my_dictionary:\n",
    "    print(element)"
   ]
  },
  {
   "cell_type": "code",
   "execution_count": 43,
   "id": "f67404d5",
   "metadata": {},
   "outputs": [
    {
     "data": {
      "text/plain": [
       "dict_keys(['k1', 'k2', 'k3'])"
      ]
     },
     "execution_count": 43,
     "metadata": {},
     "output_type": "execute_result"
    }
   ],
   "source": [
    "my_dictionary.keys()"
   ]
  },
  {
   "cell_type": "code",
   "execution_count": 44,
   "id": "f7a2da9a",
   "metadata": {},
   "outputs": [
    {
     "data": {
      "text/plain": [
       "dict_values([100, 200, 300])"
      ]
     },
     "execution_count": 44,
     "metadata": {},
     "output_type": "execute_result"
    }
   ],
   "source": [
    "my_dictionary.values()"
   ]
  },
  {
   "cell_type": "code",
   "execution_count": 45,
   "id": "a73fdfcd",
   "metadata": {},
   "outputs": [
    {
     "data": {
      "text/plain": [
       "dict_items([('k1', 100), ('k2', 200), ('k3', 300)])"
      ]
     },
     "execution_count": 45,
     "metadata": {},
     "output_type": "execute_result"
    }
   ],
   "source": [
    "my_dictionary.items()"
   ]
  },
  {
   "cell_type": "code",
   "execution_count": 46,
   "id": "3c54ad5c",
   "metadata": {},
   "outputs": [
    {
     "name": "stdout",
     "output_type": "stream",
     "text": [
      "100\n",
      "200\n",
      "300\n"
     ]
    }
   ],
   "source": [
    "for (key, value) in my_dictionary.items():\n",
    "    print(value)"
   ]
  },
  {
   "cell_type": "code",
   "execution_count": 47,
   "id": "abe9d276",
   "metadata": {},
   "outputs": [
    {
     "name": "stdout",
     "output_type": "stream",
     "text": [
      "100\n",
      "200\n",
      "300\n"
     ]
    }
   ],
   "source": [
    "for num in my_dictionary.values():\n",
    "    print(num)"
   ]
  },
  {
   "cell_type": "markdown",
   "id": "cdebdbbe",
   "metadata": {},
   "source": [
    "## continue - break - pass"
   ]
  },
  {
   "cell_type": "code",
   "execution_count": 61,
   "id": "ba1110ee",
   "metadata": {},
   "outputs": [],
   "source": [
    "my_list = [10,20,30,40,50,60,70]"
   ]
  },
  {
   "cell_type": "code",
   "execution_count": 50,
   "id": "f4262b82",
   "metadata": {},
   "outputs": [
    {
     "name": "stdout",
     "output_type": "stream",
     "text": [
      "for loop started\n",
      "10\n",
      "20\n",
      "30\n",
      "40\n",
      "50\n",
      "60\n",
      "70\n",
      "for loop ended\n"
     ]
    }
   ],
   "source": [
    "print(\"for loop started\")\n",
    "for num in my_list:\n",
    "    print(num)\n",
    "print(\"for loop ended\")"
   ]
  },
  {
   "cell_type": "code",
   "execution_count": 51,
   "id": "29c8f265",
   "metadata": {},
   "outputs": [
    {
     "data": {
      "text/plain": [
       "True"
      ]
     },
     "execution_count": 51,
     "metadata": {},
     "output_type": "execute_result"
    }
   ],
   "source": [
    "40 in my_list"
   ]
  },
  {
   "cell_type": "code",
   "execution_count": 53,
   "id": "1b28793f",
   "metadata": {},
   "outputs": [
    {
     "name": "stdout",
     "output_type": "stream",
     "text": [
      "10\n",
      "20\n",
      "30\n",
      "40\n",
      "yes\n",
      "50\n",
      "60\n",
      "70\n"
     ]
    }
   ],
   "source": [
    "for number in my_list:\n",
    "    print(number)\n",
    "    if number == 40:\n",
    "        print(\"yes\")"
   ]
  },
  {
   "cell_type": "code",
   "execution_count": 54,
   "id": "a2a39c47",
   "metadata": {},
   "outputs": [
    {
     "name": "stdout",
     "output_type": "stream",
     "text": [
      "10\n",
      "20\n",
      "30\n",
      "40\n",
      "yes\n"
     ]
    }
   ],
   "source": [
    "for number in my_list:\n",
    "    print(number)\n",
    "    if number == 40:\n",
    "        print(\"yes\")\n",
    "        break  # döngüyü kırarak döngüden çıkar"
   ]
  },
  {
   "cell_type": "code",
   "execution_count": 55,
   "id": "fc1f021c",
   "metadata": {},
   "outputs": [
    {
     "name": "stdout",
     "output_type": "stream",
     "text": [
      "10\n",
      "20\n",
      "30\n",
      "40\n",
      "yes\n",
      "50\n",
      "60\n",
      "70\n"
     ]
    }
   ],
   "source": [
    "for number in my_list:\n",
    "    print(number)\n",
    "    if number == 40:\n",
    "        print(\"yes\")\n"
   ]
  },
  {
   "cell_type": "code",
   "execution_count": 59,
   "id": "9855b3c9",
   "metadata": {},
   "outputs": [
    {
     "name": "stdout",
     "output_type": "stream",
     "text": [
      "10\n",
      "20\n",
      "30\n",
      "40\n",
      "50\n",
      "60\n",
      "70\n"
     ]
    }
   ],
   "source": [
    "for number in my_list:\n",
    "    print(number)\n",
    "    if number == 40:\n",
    "        continue\n",
    "        print(number)"
   ]
  },
  {
   "cell_type": "code",
   "execution_count": 63,
   "id": "c2a62805",
   "metadata": {},
   "outputs": [
    {
     "name": "stdout",
     "output_type": "stream",
     "text": [
      "10\n",
      "20\n",
      "30\n",
      "50\n",
      "60\n",
      "70\n"
     ]
    }
   ],
   "source": [
    "for number in my_list:\n",
    "    if number == 40:\n",
    "        continue\n",
    "    print(number)"
   ]
  },
  {
   "cell_type": "markdown",
   "id": "aa49285d",
   "metadata": {},
   "source": [
    "Continue'da döngüye devameder sonraki kodlara bakmaz yukarıda 40'a geldiğinde continue satırından sonra tekrar başa döner ve alttaki print(number) satırını yazdırmamış olur o yüzden 40 çıktısını alamayız."
   ]
  },
  {
   "cell_type": "code",
   "execution_count": 64,
   "id": "a15e2bf3",
   "metadata": {},
   "outputs": [],
   "source": [
    "for number in my_list:\n",
    "    pass"
   ]
  },
  {
   "cell_type": "markdown",
   "id": "ea0f782e",
   "metadata": {},
   "source": [
    "Pass : Genelde kodu geliştirirken kullanılır bitmiş kodda pek görülmez. "
   ]
  }
 ],
 "metadata": {
  "kernelspec": {
   "display_name": "Python 3 (ipykernel)",
   "language": "python",
   "name": "python3"
  },
  "language_info": {
   "codemirror_mode": {
    "name": "ipython",
    "version": 3
   },
   "file_extension": ".py",
   "mimetype": "text/x-python",
   "name": "python",
   "nbconvert_exporter": "python",
   "pygments_lexer": "ipython3",
   "version": "3.9.7"
  }
 },
 "nbformat": 4,
 "nbformat_minor": 5
}
