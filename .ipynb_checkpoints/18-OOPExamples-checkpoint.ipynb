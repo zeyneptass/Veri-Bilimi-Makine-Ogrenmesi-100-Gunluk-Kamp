{
 "cells": [
  {
   "cell_type": "markdown",
   "id": "15b263a9",
   "metadata": {},
   "source": [
    "# Object Orianted Programming"
   ]
  },
  {
   "cell_type": "markdown",
   "id": "3db65da6",
   "metadata": {},
   "source": [
    "#### -Inheritance\n",
    "#### -Polymorphism\n",
    "#### -Abstraction\n",
    "#### -Encapsulation"
   ]
  },
  {
   "cell_type": "markdown",
   "id": "f5fc3239",
   "metadata": {},
   "source": [
    "## Inheritance"
   ]
  },
  {
   "cell_type": "markdown",
   "id": "13e11a0d",
   "metadata": {},
   "source": [
    "Kalıtım almak. Bir sınıfın özelliklerini kullanmamıza yarar"
   ]
  },
  {
   "cell_type": "code",
   "execution_count": 1,
   "id": "35b7fb61",
   "metadata": {},
   "outputs": [],
   "source": [
    "class Musician():\n",
    "    def __init__(self,name):\n",
    "        self.name = name\n",
    "        print(\"musician class\")\n",
    "    \n",
    "    def test1(self):\n",
    "        print(\"test1\")\n",
    "        \n",
    "    def test2(self):\n",
    "        print(\"test2\")"
   ]
  },
  {
   "cell_type": "code",
   "execution_count": 2,
   "id": "5efca29d",
   "metadata": {},
   "outputs": [
    {
     "name": "stdout",
     "output_type": "stream",
     "text": [
      "musician class\n"
     ]
    }
   ],
   "source": [
    "atil = Musician(\"Atil\")"
   ]
  },
  {
   "cell_type": "code",
   "execution_count": 3,
   "id": "386a0a99",
   "metadata": {},
   "outputs": [
    {
     "data": {
      "text/plain": [
       "'Atil'"
      ]
     },
     "execution_count": 3,
     "metadata": {},
     "output_type": "execute_result"
    }
   ],
   "source": [
    "atil.name"
   ]
  },
  {
   "cell_type": "code",
   "execution_count": 4,
   "id": "bd5dcfbd",
   "metadata": {},
   "outputs": [
    {
     "name": "stdout",
     "output_type": "stream",
     "text": [
      "test1\n"
     ]
    }
   ],
   "source": [
    "atil.test1()"
   ]
  },
  {
   "cell_type": "code",
   "execution_count": 5,
   "id": "66ed24cb",
   "metadata": {},
   "outputs": [
    {
     "name": "stdout",
     "output_type": "stream",
     "text": [
      "test2\n"
     ]
    }
   ],
   "source": [
    "atil.test2()"
   ]
  },
  {
   "cell_type": "code",
   "execution_count": 6,
   "id": "97ae93ee",
   "metadata": {},
   "outputs": [],
   "source": [
    "class MusicianPlus(Musician): # kalıtım almak istediğimiz sınıfın adını parametre gibi gireriz\n",
    "    \n",
    "    def __init__(self,name):\n",
    "        Musician.__init__(self,name)\n",
    "        print(\"musician plus\")\n",
    "    \n",
    "    def test3(self):\n",
    "        print(\"test3\")"
   ]
  },
  {
   "cell_type": "code",
   "execution_count": 7,
   "id": "20889dd0",
   "metadata": {},
   "outputs": [
    {
     "name": "stdout",
     "output_type": "stream",
     "text": [
      "musician class\n",
      "musician plus\n"
     ]
    }
   ],
   "source": [
    "atlas = MusicianPlus(\"Atlas\")"
   ]
  },
  {
   "cell_type": "code",
   "execution_count": 8,
   "id": "91548b75",
   "metadata": {},
   "outputs": [
    {
     "name": "stdout",
     "output_type": "stream",
     "text": [
      "test1\n"
     ]
    }
   ],
   "source": [
    " atlas.test1()"
   ]
  },
  {
   "cell_type": "code",
   "execution_count": 9,
   "id": "596e4fb8",
   "metadata": {},
   "outputs": [
    {
     "name": "stdout",
     "output_type": "stream",
     "text": [
      "test2\n"
     ]
    }
   ],
   "source": [
    "atlas.test2()"
   ]
  },
  {
   "cell_type": "markdown",
   "id": "66852db7",
   "metadata": {},
   "source": [
    "Inheritance uyguladığımız için oluşturduğumuz MusicianPlus nesnesi Musician sınıfındaki metodlara da erişebilir duruma gelmiş olur."
   ]
  },
  {
   "cell_type": "code",
   "execution_count": 10,
   "id": "3916b5d9",
   "metadata": {},
   "outputs": [],
   "source": [
    "atlas.name = \"Atlas Samancioglu\""
   ]
  },
  {
   "cell_type": "code",
   "execution_count": 11,
   "id": "81dff09b",
   "metadata": {},
   "outputs": [
    {
     "data": {
      "text/plain": [
       "__main__.MusicianPlus"
      ]
     },
     "execution_count": 11,
     "metadata": {},
     "output_type": "execute_result"
    }
   ],
   "source": [
    "type(atlas)"
   ]
  },
  {
   "cell_type": "code",
   "execution_count": 12,
   "id": "547cecc8",
   "metadata": {},
   "outputs": [
    {
     "name": "stdout",
     "output_type": "stream",
     "text": [
      "test3\n"
     ]
    }
   ],
   "source": [
    "atlas.test3()"
   ]
  },
  {
   "cell_type": "code",
   "execution_count": 13,
   "id": "daa8061f",
   "metadata": {},
   "outputs": [
    {
     "data": {
      "text/plain": [
       "__main__.Musician"
      ]
     },
     "execution_count": 13,
     "metadata": {},
     "output_type": "execute_result"
    }
   ],
   "source": [
    "type(atil)"
   ]
  },
  {
   "cell_type": "markdown",
   "id": "d364c590",
   "metadata": {},
   "source": [
    "yukarıdaki örneklere göre atil sadece musician sınıfındaki metodları yapabilirken atlas hem Musician hem de MusicianPlus'taki metodlara erişebilir yani atil test3() metoduna erişemezken atlas hepsine erişebilir."
   ]
  },
  {
   "cell_type": "markdown",
   "id": "33c2e1e7",
   "metadata": {},
   "source": [
    "#### Override ile Kalıtım aldığın sınıfın metodunu değiştirme"
   ]
  },
  {
   "cell_type": "markdown",
   "id": "e212080c",
   "metadata": {},
   "source": [
    "Override ike kalıtım aldığımız metodun ismini değiştirmeden yazıp yeni metod tanımlayabiliriz ama bu sadece override edilen class'taki objeler tarafından ulaşılabilir olur yani kalıtım aldığımız class'tan oluşturulan object metoda kendi sınıfındaki haliyle erişir."
   ]
  },
  {
   "cell_type": "code",
   "execution_count": 14,
   "id": "e1bc2d3a",
   "metadata": {},
   "outputs": [],
   "source": [
    "class MusicianPlus(Musician): # kalıtım almak istediğimiz sınıfın adını parametre gibi gireriz\n",
    "    \n",
    "    def __init__(self,name):\n",
    "        Musician.__init__(self,name)\n",
    "        print(\"musician plus\")\n",
    "    \n",
    "    def test3(self):\n",
    "        print(\"test3\")\n",
    "        \n",
    "    #override\n",
    "    def test1(self):\n",
    "        print(\"test1 test1 test1\")"
   ]
  },
  {
   "cell_type": "code",
   "execution_count": 15,
   "id": "61fd47a9",
   "metadata": {},
   "outputs": [
    {
     "name": "stdout",
     "output_type": "stream",
     "text": [
      "musician class\n",
      "musician plus\n"
     ]
    }
   ],
   "source": [
    "a = MusicianPlus(\"a\")"
   ]
  },
  {
   "cell_type": "code",
   "execution_count": 16,
   "id": "25ecc546",
   "metadata": {},
   "outputs": [
    {
     "name": "stdout",
     "output_type": "stream",
     "text": [
      "test1 test1 test1\n"
     ]
    }
   ],
   "source": [
    "a.test1()"
   ]
  },
  {
   "cell_type": "code",
   "execution_count": 17,
   "id": "63606529",
   "metadata": {},
   "outputs": [
    {
     "name": "stdout",
     "output_type": "stream",
     "text": [
      "test2\n"
     ]
    }
   ],
   "source": [
    "a.test2()"
   ]
  },
  {
   "cell_type": "code",
   "execution_count": 18,
   "id": "219d0edc",
   "metadata": {},
   "outputs": [
    {
     "name": "stdout",
     "output_type": "stream",
     "text": [
      "test1\n"
     ]
    }
   ],
   "source": [
    "atil.test1()"
   ]
  },
  {
   "cell_type": "markdown",
   "id": "1bab49fa",
   "metadata": {},
   "source": [
    "##  Polymorphism"
   ]
  },
  {
   "cell_type": "markdown",
   "id": "2f907c12",
   "metadata": {},
   "source": [
    "kelime anlamı olarak aynı isimle farklı işlevleri yapmak diyebiliriz"
   ]
  },
  {
   "cell_type": "code",
   "execution_count": 19,
   "id": "98f8d81e",
   "metadata": {},
   "outputs": [],
   "source": [
    "class Banana():\n",
    "    \n",
    "    def __init__(self,name):\n",
    "        self.name = name\n",
    "        \n",
    "    def info(self):\n",
    "        return f\"100 calories {self.name}\"\n",
    "    \n",
    "class Apple():\n",
    "    \n",
    "    def __init__(self,name):\n",
    "        self.name = name\n",
    "    \n",
    "    def info(self):\n",
    "        return f\"150 calories {self.name}\""
   ]
  },
  {
   "cell_type": "code",
   "execution_count": 20,
   "id": "14ff3493",
   "metadata": {},
   "outputs": [],
   "source": [
    "banana = Banana(\"banana\")"
   ]
  },
  {
   "cell_type": "code",
   "execution_count": 21,
   "id": "a539f569",
   "metadata": {},
   "outputs": [],
   "source": [
    "apple = Apple(\"apple\")"
   ]
  },
  {
   "cell_type": "code",
   "execution_count": 22,
   "id": "cf4ecc15",
   "metadata": {},
   "outputs": [
    {
     "data": {
      "text/plain": [
       "'100 calories banana'"
      ]
     },
     "execution_count": 22,
     "metadata": {},
     "output_type": "execute_result"
    }
   ],
   "source": [
    "banana.info()"
   ]
  },
  {
   "cell_type": "code",
   "execution_count": 23,
   "id": "a022203e",
   "metadata": {},
   "outputs": [
    {
     "data": {
      "text/plain": [
       "'150 calories apple'"
      ]
     },
     "execution_count": 23,
     "metadata": {},
     "output_type": "execute_result"
    }
   ],
   "source": [
    "apple.info()"
   ]
  },
  {
   "cell_type": "code",
   "execution_count": 24,
   "id": "3f506759",
   "metadata": {},
   "outputs": [],
   "source": [
    "fruitList =  [banana,apple]"
   ]
  },
  {
   "cell_type": "code",
   "execution_count": 25,
   "id": "3d6c003a",
   "metadata": {},
   "outputs": [
    {
     "name": "stdout",
     "output_type": "stream",
     "text": [
      "100 calories banana\n",
      "150 calories apple\n"
     ]
    }
   ],
   "source": [
    "for fruit in fruitList:\n",
    "    print(fruit.info())"
   ]
  },
  {
   "cell_type": "markdown",
   "id": "050ac79d",
   "metadata": {},
   "source": [
    "Birbirinden farklı nesneler için aynı info metod ismini kullanmış olduk."
   ]
  },
  {
   "cell_type": "markdown",
   "id": "9ee30528",
   "metadata": {},
   "source": [
    "## Encapsulation"
   ]
  },
  {
   "cell_type": "markdown",
   "id": "ab1dfb77",
   "metadata": {},
   "source": [
    "Başka developer'ın bozmamasını istediğimiz, değiştirlemesini istediğimiz kodları saklı tutup sadece erişilebilmesi gereken yerden erişilsin istersek encapsulation kullanırız."
   ]
  },
  {
   "cell_type": "code",
   "execution_count": 26,
   "id": "b1031f4b",
   "metadata": {},
   "outputs": [],
   "source": [
    "class Phone():\n",
    "    \n",
    "    def __init__(self,name,price):\n",
    "        self.name = name\n",
    "        self.price = price\n",
    "    \n",
    "    def info(self):\n",
    "        print(f\"{self.name} price is: {self.price}\")"
   ]
  },
  {
   "cell_type": "code",
   "execution_count": 27,
   "id": "93a5c05b",
   "metadata": {},
   "outputs": [],
   "source": [
    "iphone = Phone(\"iPhone 14\",5000)"
   ]
  },
  {
   "cell_type": "code",
   "execution_count": 28,
   "id": "d8338f79",
   "metadata": {},
   "outputs": [
    {
     "ename": "AttributeError",
     "evalue": "'Phone' object has no attribute 'price'",
     "output_type": "error",
     "traceback": [
      "\u001b[1;31m---------------------------------------------------------------------------\u001b[0m",
      "\u001b[1;31mAttributeError\u001b[0m                            Traceback (most recent call last)",
      "\u001b[1;32m~\\AppData\\Local\\Temp/ipykernel_6200/3357525612.py\u001b[0m in \u001b[0;36m<module>\u001b[1;34m\u001b[0m\n\u001b[1;32m----> 1\u001b[1;33m \u001b[0miphone\u001b[0m\u001b[1;33m.\u001b[0m\u001b[0minfo\u001b[0m\u001b[1;33m(\u001b[0m\u001b[1;33m)\u001b[0m\u001b[1;33m\u001b[0m\u001b[1;33m\u001b[0m\u001b[0m\n\u001b[0m",
      "\u001b[1;32m~\\AppData\\Local\\Temp/ipykernel_6200/3501635267.py\u001b[0m in \u001b[0;36minfo\u001b[1;34m(self)\u001b[0m\n\u001b[0;32m      6\u001b[0m \u001b[1;33m\u001b[0m\u001b[0m\n\u001b[0;32m      7\u001b[0m     \u001b[1;32mdef\u001b[0m \u001b[0minfo\u001b[0m\u001b[1;33m(\u001b[0m\u001b[0mself\u001b[0m\u001b[1;33m)\u001b[0m\u001b[1;33m:\u001b[0m\u001b[1;33m\u001b[0m\u001b[1;33m\u001b[0m\u001b[0m\n\u001b[1;32m----> 8\u001b[1;33m         \u001b[0mprint\u001b[0m\u001b[1;33m(\u001b[0m\u001b[1;34mf\"{self.name} price is: {self.price}\"\u001b[0m\u001b[1;33m)\u001b[0m\u001b[1;33m\u001b[0m\u001b[1;33m\u001b[0m\u001b[0m\n\u001b[0m",
      "\u001b[1;31mAttributeError\u001b[0m: 'Phone' object has no attribute 'price'"
     ]
    }
   ],
   "source": [
    "iphone.info()"
   ]
  },
  {
   "cell_type": "code",
   "execution_count": null,
   "id": "cc78fe8a",
   "metadata": {},
   "outputs": [],
   "source": [
    "iphone.price = 400"
   ]
  },
  {
   "cell_type": "code",
   "execution_count": null,
   "id": "21dc376b",
   "metadata": {},
   "outputs": [],
   "source": [
    "iphone.info()"
   ]
  },
  {
   "cell_type": "markdown",
   "id": "1e824248",
   "metadata": {},
   "source": [
    "Price property'sinin önüne __ koyarsak sadece içinde olduğu sınıftan erişilebilir olur."
   ]
  },
  {
   "cell_type": "code",
   "execution_count": 38,
   "id": "1ab30ed3",
   "metadata": {},
   "outputs": [],
   "source": [
    "class Phone():\n",
    "    \n",
    "    def __init__(self,name,price):\n",
    "        self.name = name\n",
    "        self.__price = price\n",
    "    \n",
    "    def info(self):\n",
    "        print(f\"{self.name} price is: {self.__price}\")\n",
    "        \n",
    "    def changePrice(self,price):\n",
    "        self.__price = price"
   ]
  },
  {
   "cell_type": "code",
   "execution_count": 39,
   "id": "97f2213e",
   "metadata": {},
   "outputs": [],
   "source": [
    "iphone16 = Phone(\"iphone 16\",20)"
   ]
  },
  {
   "cell_type": "code",
   "execution_count": 40,
   "id": "4b3e241d",
   "metadata": {},
   "outputs": [
    {
     "name": "stdout",
     "output_type": "stream",
     "text": [
      "iphone 16 price is: 20\n"
     ]
    }
   ],
   "source": [
    "iphone16.info()"
   ]
  },
  {
   "cell_type": "code",
   "execution_count": 41,
   "id": "6d315c42",
   "metadata": {},
   "outputs": [],
   "source": [
    "iphone16.price = 400  # price değeri değişmez"
   ]
  },
  {
   "cell_type": "code",
   "execution_count": 42,
   "id": "09aeb09c",
   "metadata": {},
   "outputs": [
    {
     "name": "stdout",
     "output_type": "stream",
     "text": [
      "iphone 16 price is: 20\n"
     ]
    }
   ],
   "source": [
    "iphone16.info()"
   ]
  },
  {
   "cell_type": "markdown",
   "id": "bf075b14",
   "metadata": {},
   "source": [
    "Price'ın değiştirilebilme özelliğine sadece Phone class'ı içerisinden ulaşabiliriz"
   ]
  },
  {
   "cell_type": "code",
   "execution_count": 43,
   "id": "33b0a363",
   "metadata": {},
   "outputs": [],
   "source": [
    "iphone16.changePrice(300)"
   ]
  },
  {
   "cell_type": "code",
   "execution_count": 44,
   "id": "79109867",
   "metadata": {},
   "outputs": [
    {
     "name": "stdout",
     "output_type": "stream",
     "text": [
      "iphone 16 price is: 300\n"
     ]
    }
   ],
   "source": [
    "iphone16.info()"
   ]
  },
  {
   "cell_type": "markdown",
   "id": "cee27c36",
   "metadata": {},
   "source": [
    "## Abstraction"
   ]
  },
  {
   "cell_type": "markdown",
   "id": "9c7b6f2b",
   "metadata": {},
   "source": [
    "Aşağıdaki kütüphaneyi kullanarak soyut sınıflar oluşturabiliriz."
   ]
  },
  {
   "cell_type": "code",
   "execution_count": 45,
   "id": "f91e8bf6",
   "metadata": {},
   "outputs": [],
   "source": [
    "from abc import ABC, abstractmethod"
   ]
  },
  {
   "cell_type": "code",
   "execution_count": 47,
   "id": "aa7fa770",
   "metadata": {},
   "outputs": [],
   "source": [
    "class Car(ABC):\n",
    "    \n",
    "    @abstractmethod\n",
    "    def maxSpeed():\n",
    "        pass"
   ]
  },
  {
   "cell_type": "code",
   "execution_count": 48,
   "id": "601caabd",
   "metadata": {},
   "outputs": [
    {
     "ename": "TypeError",
     "evalue": "Can't instantiate abstract class Car with abstract method maxSpeed",
     "output_type": "error",
     "traceback": [
      "\u001b[1;31m---------------------------------------------------------------------------\u001b[0m",
      "\u001b[1;31mTypeError\u001b[0m                                 Traceback (most recent call last)",
      "\u001b[1;32m~\\AppData\\Local\\Temp/ipykernel_6200/2567453980.py\u001b[0m in \u001b[0;36m<module>\u001b[1;34m\u001b[0m\n\u001b[1;32m----> 1\u001b[1;33m \u001b[0mmyCar\u001b[0m \u001b[1;33m=\u001b[0m \u001b[0mCar\u001b[0m\u001b[1;33m(\u001b[0m\u001b[1;33m)\u001b[0m\u001b[1;33m\u001b[0m\u001b[1;33m\u001b[0m\u001b[0m\n\u001b[0m",
      "\u001b[1;31mTypeError\u001b[0m: Can't instantiate abstract class Car with abstract method maxSpeed"
     ]
    }
   ],
   "source": [
    "myCar = Car()"
   ]
  },
  {
   "cell_type": "markdown",
   "id": "e68c8a94",
   "metadata": {},
   "source": [
    "Abstract sınıftan nesne oluşturmaya kalkarsak yukarıdaki hatayı alırız."
   ]
  },
  {
   "cell_type": "code",
   "execution_count": 49,
   "id": "6bb15bf4",
   "metadata": {},
   "outputs": [],
   "source": [
    "class Tesla(Car):\n",
    "    pass"
   ]
  },
  {
   "cell_type": "code",
   "execution_count": 50,
   "id": "acfbea6c",
   "metadata": {},
   "outputs": [
    {
     "ename": "TypeError",
     "evalue": "Can't instantiate abstract class Tesla with abstract method maxSpeed",
     "output_type": "error",
     "traceback": [
      "\u001b[1;31m---------------------------------------------------------------------------\u001b[0m",
      "\u001b[1;31mTypeError\u001b[0m                                 Traceback (most recent call last)",
      "\u001b[1;32m~\\AppData\\Local\\Temp/ipykernel_6200/1924101465.py\u001b[0m in \u001b[0;36m<module>\u001b[1;34m\u001b[0m\n\u001b[1;32m----> 1\u001b[1;33m \u001b[0mtesla\u001b[0m \u001b[1;33m=\u001b[0m \u001b[0mTesla\u001b[0m\u001b[1;33m(\u001b[0m\u001b[1;33m)\u001b[0m\u001b[1;33m\u001b[0m\u001b[1;33m\u001b[0m\u001b[0m\n\u001b[0m",
      "\u001b[1;31mTypeError\u001b[0m: Can't instantiate abstract class Tesla with abstract method maxSpeed"
     ]
    }
   ],
   "source": [
    "tesla = Tesla()"
   ]
  },
  {
   "cell_type": "markdown",
   "id": "2dad5989",
   "metadata": {},
   "source": [
    "Tesla Car class'tan soyutlandığı için onun içindeki methodları içermek zorundadır. İçermezse yukarıdaki gibi hata verir."
   ]
  },
  {
   "cell_type": "code",
   "execution_count": 51,
   "id": "19e9b3f7",
   "metadata": {},
   "outputs": [],
   "source": [
    "class Tesla(Car):\n",
    "    def maxSpeed(self):\n",
    "        print(\"200km\")"
   ]
  },
  {
   "cell_type": "code",
   "execution_count": 52,
   "id": "d06c0232",
   "metadata": {},
   "outputs": [],
   "source": [
    "tesla = Tesla()"
   ]
  },
  {
   "cell_type": "code",
   "execution_count": 53,
   "id": "2b2f14fc",
   "metadata": {},
   "outputs": [
    {
     "name": "stdout",
     "output_type": "stream",
     "text": [
      "200km\n"
     ]
    }
   ],
   "source": [
    "tesla.maxSpeed()"
   ]
  },
  {
   "cell_type": "code",
   "execution_count": 54,
   "id": "8842f176",
   "metadata": {},
   "outputs": [],
   "source": [
    "class Mercedes(Car):\n",
    "    \n",
    "    def maxSpeed(self): \n",
    "        print(\"250km\")"
   ]
  },
  {
   "cell_type": "code",
   "execution_count": 55,
   "id": "932ca5fe",
   "metadata": {},
   "outputs": [],
   "source": [
    "mercedes = Mercedes()"
   ]
  },
  {
   "cell_type": "code",
   "execution_count": 56,
   "id": "099222f6",
   "metadata": {},
   "outputs": [
    {
     "name": "stdout",
     "output_type": "stream",
     "text": [
      "250km\n"
     ]
    }
   ],
   "source": [
    "mercedes.maxSpeed()"
   ]
  },
  {
   "cell_type": "markdown",
   "id": "d03b3b73",
   "metadata": {},
   "source": [
    "# Special Methods (Özel Metodlar)"
   ]
  },
  {
   "cell_type": "code",
   "execution_count": 69,
   "id": "086e7bb9",
   "metadata": {},
   "outputs": [],
   "source": [
    "class Fruit():\n",
    "    def __init__(self,name,calories):\n",
    "        self.name = name\n",
    "        self.calories = calories\n",
    "        \n",
    "    # str be len python'un kendi içinde olan fonksiyondur aşağıda onu değiştirmiş oluyoruz. \n",
    "    def __str__(self):\n",
    "        return f\"{self.name} : {self.calories} calories\"\n",
    "    \n",
    "    def __len__(self):\n",
    "        return self.calories"
   ]
  },
  {
   "cell_type": "code",
   "execution_count": 70,
   "id": "ecfcb891",
   "metadata": {},
   "outputs": [],
   "source": [
    "myFruit = Fruit(\"banana\",150)"
   ]
  },
  {
   "cell_type": "code",
   "execution_count": 71,
   "id": "f57f5495",
   "metadata": {},
   "outputs": [
    {
     "data": {
      "text/plain": [
       "150"
      ]
     },
     "execution_count": 71,
     "metadata": {},
     "output_type": "execute_result"
    }
   ],
   "source": [
    "myFruit.calories"
   ]
  },
  {
   "cell_type": "code",
   "execution_count": 72,
   "id": "7de3abfc",
   "metadata": {},
   "outputs": [
    {
     "data": {
      "text/plain": [
       "'banana'"
      ]
     },
     "execution_count": 72,
     "metadata": {},
     "output_type": "execute_result"
    }
   ],
   "source": [
    "myFruit.name"
   ]
  },
  {
   "cell_type": "code",
   "execution_count": 73,
   "id": "4683f71f",
   "metadata": {},
   "outputs": [
    {
     "name": "stdout",
     "output_type": "stream",
     "text": [
      "banana : 150 calories\n"
     ]
    }
   ],
   "source": [
    "print(myFruit)"
   ]
  },
  {
   "cell_type": "code",
   "execution_count": 74,
   "id": "60b6105a",
   "metadata": {},
   "outputs": [
    {
     "data": {
      "text/plain": [
       "150"
      ]
     },
     "execution_count": 74,
     "metadata": {},
     "output_type": "execute_result"
    }
   ],
   "source": [
    "len(myFruit)"
   ]
  },
  {
   "cell_type": "markdown",
   "id": "b12b6cb6",
   "metadata": {},
   "source": [
    "Bunlar giibi daha birçok special methods vardır python'da"
   ]
  },
  {
   "cell_type": "code",
   "execution_count": 76,
   "id": "840ecd68",
   "metadata": {},
   "outputs": [],
   "source": [
    "class Train():\n",
    "    \n",
    "    def __init__(self,name):\n",
    "        self.name = name\n",
    "    def __getitem__(self,key):\n",
    "        if key == \"a\":\n",
    "            return self.name\n",
    "        else:\n",
    "            return \"Not Found\""
   ]
  },
  {
   "cell_type": "code",
   "execution_count": 77,
   "id": "724f903d",
   "metadata": {},
   "outputs": [],
   "source": [
    "myTrain = Train(\"myTrain\")"
   ]
  },
  {
   "cell_type": "code",
   "execution_count": 78,
   "id": "ce625498",
   "metadata": {},
   "outputs": [
    {
     "data": {
      "text/plain": [
       "'myTrain'"
      ]
     },
     "execution_count": 78,
     "metadata": {},
     "output_type": "execute_result"
    }
   ],
   "source": [
    "myTrain[\"a\"]"
   ]
  },
  {
   "cell_type": "code",
   "execution_count": 79,
   "id": "efd2dd63",
   "metadata": {},
   "outputs": [
    {
     "data": {
      "text/plain": [
       "'Not Found'"
      ]
     },
     "execution_count": 79,
     "metadata": {},
     "output_type": "execute_result"
    }
   ],
   "source": [
    "myTrain[\"b\"]"
   ]
  },
  {
   "cell_type": "code",
   "execution_count": null,
   "id": "8f607743",
   "metadata": {},
   "outputs": [],
   "source": []
  }
 ],
 "metadata": {
  "kernelspec": {
   "display_name": "Python 3 (ipykernel)",
   "language": "python",
   "name": "python3"
  },
  "language_info": {
   "codemirror_mode": {
    "name": "ipython",
    "version": 3
   },
   "file_extension": ".py",
   "mimetype": "text/x-python",
   "name": "python",
   "nbconvert_exporter": "python",
   "pygments_lexer": "ipython3",
   "version": "3.9.7"
  }
 },
 "nbformat": 4,
 "nbformat_minor": 5
}
