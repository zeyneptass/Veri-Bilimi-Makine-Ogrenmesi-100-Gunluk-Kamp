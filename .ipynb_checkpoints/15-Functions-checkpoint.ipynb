{
 "cells": [
  {
   "cell_type": "markdown",
   "id": "662dd1ce",
   "metadata": {},
   "source": [
    "# Method vs Function"
   ]
  },
  {
   "cell_type": "markdown",
   "id": "1c9e4910",
   "metadata": {},
   "source": [
    "Method sınıf içerisinde yapılan fonksiyonlardır."
   ]
  },
  {
   "cell_type": "code",
   "execution_count": 1,
   "id": "76f1e0a0",
   "metadata": {},
   "outputs": [],
   "source": [
    "my_name = \"atil\""
   ]
  },
  {
   "cell_type": "code",
   "execution_count": 4,
   "id": "1707513a",
   "metadata": {},
   "outputs": [
    {
     "data": {
      "text/plain": [
       "'ATIL'"
      ]
     },
     "execution_count": 4,
     "metadata": {},
     "output_type": "execute_result"
    }
   ],
   "source": [
    "my_name.upper()"
   ]
  },
  {
   "cell_type": "code",
   "execution_count": 5,
   "id": "d25be174",
   "metadata": {},
   "outputs": [
    {
     "data": {
      "text/plain": [
       "'atil'"
      ]
     },
     "execution_count": 5,
     "metadata": {},
     "output_type": "execute_result"
    }
   ],
   "source": [
    "my_name"
   ]
  },
  {
   "cell_type": "code",
   "execution_count": 6,
   "id": "e265fcf7",
   "metadata": {},
   "outputs": [
    {
     "name": "stdout",
     "output_type": "stream",
     "text": [
      "Help on built-in function upper:\n",
      "\n",
      "upper() method of builtins.str instance\n",
      "    Return a copy of the string converted to uppercase.\n",
      "\n"
     ]
    }
   ],
   "source": [
    "help(my_name.upper)"
   ]
  },
  {
   "cell_type": "markdown",
   "id": "d608cf84",
   "metadata": {},
   "source": [
    "Fonksiyonlar kod bloklarıdır. Sonradan tekrar kullanılabilirdirler. Girdi ve çıktı alabilir."
   ]
  },
  {
   "cell_type": "code",
   "execution_count": 7,
   "id": "ee1a3c8e",
   "metadata": {},
   "outputs": [],
   "source": [
    "def hello_python():\n",
    "    print(\"hello\")\n",
    "    print(\"python\")"
   ]
  },
  {
   "cell_type": "code",
   "execution_count": 8,
   "id": "ba1ce394",
   "metadata": {},
   "outputs": [
    {
     "name": "stdout",
     "output_type": "stream",
     "text": [
      "hello\n",
      "python\n"
     ]
    }
   ],
   "source": [
    "hello_python()"
   ]
  },
  {
   "cell_type": "code",
   "execution_count": 9,
   "id": "dda0bdfa",
   "metadata": {},
   "outputs": [
    {
     "name": "stdout",
     "output_type": "stream",
     "text": [
      "hello\n",
      "python\n"
     ]
    }
   ],
   "source": [
    "hello_python()"
   ]
  },
  {
   "cell_type": "markdown",
   "id": "618c911b",
   "metadata": {},
   "source": [
    "### input"
   ]
  },
  {
   "cell_type": "code",
   "execution_count": 10,
   "id": "5d302921",
   "metadata": {},
   "outputs": [],
   "source": [
    "def hello_name(name):\n",
    "    print(\"hello\")\n",
    "    print(name)"
   ]
  },
  {
   "cell_type": "code",
   "execution_count": 11,
   "id": "27efe218",
   "metadata": {},
   "outputs": [
    {
     "ename": "TypeError",
     "evalue": "hello_name() missing 1 required positional argument: 'name'",
     "output_type": "error",
     "traceback": [
      "\u001b[1;31m---------------------------------------------------------------------------\u001b[0m",
      "\u001b[1;31mTypeError\u001b[0m                                 Traceback (most recent call last)",
      "\u001b[1;32m~\\AppData\\Local\\Temp/ipykernel_6868/4121036444.py\u001b[0m in \u001b[0;36m<module>\u001b[1;34m\u001b[0m\n\u001b[1;32m----> 1\u001b[1;33m \u001b[0mhello_name\u001b[0m\u001b[1;33m(\u001b[0m\u001b[1;33m)\u001b[0m\u001b[1;33m\u001b[0m\u001b[1;33m\u001b[0m\u001b[0m\n\u001b[0m",
      "\u001b[1;31mTypeError\u001b[0m: hello_name() missing 1 required positional argument: 'name'"
     ]
    }
   ],
   "source": [
    "hello_name()"
   ]
  },
  {
   "cell_type": "code",
   "execution_count": 12,
   "id": "49ba4efb",
   "metadata": {},
   "outputs": [
    {
     "name": "stdout",
     "output_type": "stream",
     "text": [
      "hello\n",
      "zeynep\n"
     ]
    }
   ],
   "source": [
    "hello_name(\"zeynep\")"
   ]
  },
  {
   "cell_type": "code",
   "execution_count": 13,
   "id": "13b1acf5",
   "metadata": {},
   "outputs": [
    {
     "name": "stdout",
     "output_type": "stream",
     "text": [
      "hello\n",
      "python\n"
     ]
    }
   ],
   "source": [
    "hello_name(\"python\")"
   ]
  },
  {
   "cell_type": "code",
   "execution_count": 15,
   "id": "c4d607ef",
   "metadata": {},
   "outputs": [],
   "source": [
    "def sumExample(num1,num2):\n",
    "    print(num1+num2)"
   ]
  },
  {
   "cell_type": "code",
   "execution_count": 16,
   "id": "f9cc267c",
   "metadata": {},
   "outputs": [
    {
     "name": "stdout",
     "output_type": "stream",
     "text": [
      "12\n"
     ]
    }
   ],
   "source": [
    "sumExample(5,7)"
   ]
  },
  {
   "cell_type": "code",
   "execution_count": 17,
   "id": "520442ac",
   "metadata": {},
   "outputs": [],
   "source": [
    "def hello_surname(surname=\"tas\"):  #default değer verdik\n",
    "    print(\"hello\")\n",
    "    print(surname)"
   ]
  },
  {
   "cell_type": "code",
   "execution_count": 18,
   "id": "c54f8120",
   "metadata": {},
   "outputs": [
    {
     "name": "stdout",
     "output_type": "stream",
     "text": [
      "hello\n",
      "sam\n"
     ]
    }
   ],
   "source": [
    "hello_surname(\"sam\")"
   ]
  },
  {
   "cell_type": "code",
   "execution_count": 19,
   "id": "865b70a0",
   "metadata": {},
   "outputs": [
    {
     "name": "stdout",
     "output_type": "stream",
     "text": [
      "hello\n",
      "tas\n"
     ]
    }
   ],
   "source": [
    "hello_surname()"
   ]
  },
  {
   "cell_type": "markdown",
   "id": "c2051110",
   "metadata": {},
   "source": [
    "### return"
   ]
  },
  {
   "cell_type": "code",
   "execution_count": 20,
   "id": "25201a40",
   "metadata": {},
   "outputs": [],
   "source": [
    "def summation(num1,num2,num3):\n",
    "    print(num1+num2+num3)"
   ]
  },
  {
   "cell_type": "code",
   "execution_count": 21,
   "id": "4a0e3f8d",
   "metadata": {},
   "outputs": [
    {
     "name": "stdout",
     "output_type": "stream",
     "text": [
      "20\n"
     ]
    }
   ],
   "source": [
    "summation(10,2,8)"
   ]
  },
  {
   "cell_type": "code",
   "execution_count": 22,
   "id": "f7d3af9f",
   "metadata": {},
   "outputs": [
    {
     "name": "stdout",
     "output_type": "stream",
     "text": [
      "20\n"
     ]
    }
   ],
   "source": [
    "x = summation(10,2,8)"
   ]
  },
  {
   "cell_type": "code",
   "execution_count": 23,
   "id": "d017dd39",
   "metadata": {},
   "outputs": [],
   "source": [
    "x"
   ]
  },
  {
   "cell_type": "code",
   "execution_count": 24,
   "id": "d9dfaee2",
   "metadata": {},
   "outputs": [
    {
     "name": "stdout",
     "output_type": "stream",
     "text": [
      "None\n"
     ]
    }
   ],
   "source": [
    "print(x)"
   ]
  },
  {
   "cell_type": "code",
   "execution_count": 25,
   "id": "642462dc",
   "metadata": {},
   "outputs": [
    {
     "data": {
      "text/plain": [
       "NoneType"
      ]
     },
     "execution_count": 25,
     "metadata": {},
     "output_type": "execute_result"
    }
   ],
   "source": [
    "type(x)"
   ]
  },
  {
   "cell_type": "markdown",
   "id": "faa5e282",
   "metadata": {},
   "source": [
    "x'in değeri yok çünkü summation fonksiyonu değer döndürmüyor sadece print ediyor."
   ]
  },
  {
   "cell_type": "code",
   "execution_count": 32,
   "id": "1181f140",
   "metadata": {},
   "outputs": [],
   "source": [
    "def return_summation(num1,num2,num3):\n",
    "    print(num1+num2+num3)\n",
    "    return num1+num2+num3\n",
    "# print çıktısını return'dan sonra yazarsak çıktı almaz çünkü bir fonksiyonda return'den sonraki değerler çalışmaz."
   ]
  },
  {
   "cell_type": "code",
   "execution_count": 30,
   "id": "5b0911e1",
   "metadata": {},
   "outputs": [
    {
     "name": "stdout",
     "output_type": "stream",
     "text": [
      "20\n"
     ]
    }
   ],
   "source": [
    "x = return_summation(10,2,8)"
   ]
  },
  {
   "cell_type": "code",
   "execution_count": 31,
   "id": "a0dec533",
   "metadata": {},
   "outputs": [
    {
     "data": {
      "text/plain": [
       "20"
      ]
     },
     "execution_count": 31,
     "metadata": {},
     "output_type": "execute_result"
    }
   ],
   "source": [
    "x"
   ]
  },
  {
   "cell_type": "code",
   "execution_count": 35,
   "id": "e21533ae",
   "metadata": {},
   "outputs": [],
   "source": [
    "def control_string(s):\n",
    "    if s[0] == \"a\":\n",
    "        print(\"a\")    "
   ]
  },
  {
   "cell_type": "code",
   "execution_count": 36,
   "id": "bef4839b",
   "metadata": {},
   "outputs": [
    {
     "name": "stdout",
     "output_type": "stream",
     "text": [
      "a\n"
     ]
    }
   ],
   "source": [
    "control_string(\"atlas\")"
   ]
  },
  {
   "cell_type": "code",
   "execution_count": 37,
   "id": "d680982a",
   "metadata": {},
   "outputs": [],
   "source": [
    "control_string(\"james\")"
   ]
  },
  {
   "cell_type": "markdown",
   "id": "450647ec",
   "metadata": {},
   "source": [
    "#### args, kwargs (arguments, key word arguments)"
   ]
  },
  {
   "cell_type": "markdown",
   "id": "ef0acca0",
   "metadata": {},
   "source": [
    "Birden fazla veya sayısı belli olmayan argüman alacaksam args kullanılır."
   ]
  },
  {
   "cell_type": "code",
   "execution_count": 38,
   "id": "6da7a23a",
   "metadata": {},
   "outputs": [],
   "source": [
    "def args_sum(*args):\n",
    "    return sum(args)"
   ]
  },
  {
   "cell_type": "code",
   "execution_count": 39,
   "id": "d6a124cc",
   "metadata": {},
   "outputs": [
    {
     "data": {
      "text/plain": [
       "210"
      ]
     },
     "execution_count": 39,
     "metadata": {},
     "output_type": "execute_result"
    }
   ],
   "source": [
    "args_sum(10,20,30,40,50,60)"
   ]
  },
  {
   "cell_type": "code",
   "execution_count": 40,
   "id": "3f3b5e12",
   "metadata": {},
   "outputs": [],
   "source": [
    "def args_example(*args):\n",
    "    print(args)"
   ]
  },
  {
   "cell_type": "code",
   "execution_count": 41,
   "id": "12d6f505",
   "metadata": {},
   "outputs": [
    {
     "name": "stdout",
     "output_type": "stream",
     "text": [
      "(124, 852, 85, 34, 72)\n"
     ]
    }
   ],
   "source": [
    "args_example(124,852,85,34,72)"
   ]
  },
  {
   "cell_type": "markdown",
   "id": "4862efb5",
   "metadata": {},
   "source": [
    "#### kwargs"
   ]
  },
  {
   "cell_type": "markdown",
   "id": "059ee38f",
   "metadata": {},
   "source": [
    "key değerleri ile dictionary oluşturmaya yarar."
   ]
  },
  {
   "cell_type": "code",
   "execution_count": 42,
   "id": "25c8a013",
   "metadata": {},
   "outputs": [],
   "source": [
    "def kwargs_example(**kwargs):\n",
    "    print(kwargs)"
   ]
  },
  {
   "cell_type": "code",
   "execution_count": 43,
   "id": "294f2664",
   "metadata": {},
   "outputs": [
    {
     "name": "stdout",
     "output_type": "stream",
     "text": [
      "{'apple': 100, 'banana': 150, 'melon': 200}\n"
     ]
    }
   ],
   "source": [
    "kwargs_example(apple=100,banana=150,melon=200)"
   ]
  },
  {
   "cell_type": "code",
   "execution_count": 44,
   "id": "451279de",
   "metadata": {},
   "outputs": [],
   "source": [
    "def kwargs_example_2(**kwargs):\n",
    "    if \"apple\" in kwargs:\n",
    "        print(\"appleee\")\n",
    "    else:\n",
    "        print(\":(\")"
   ]
  },
  {
   "cell_type": "code",
   "execution_count": 45,
   "id": "0e5b0c2c",
   "metadata": {},
   "outputs": [
    {
     "name": "stdout",
     "output_type": "stream",
     "text": [
      "appleee\n"
     ]
    }
   ],
   "source": [
    "kwargs_example_2(apple=10,banana=15)"
   ]
  },
  {
   "cell_type": "code",
   "execution_count": 46,
   "id": "12f04d96",
   "metadata": {},
   "outputs": [
    {
     "name": "stdout",
     "output_type": "stream",
     "text": [
      ":(\n"
     ]
    }
   ],
   "source": [
    "kwargs_example_2(banana=15)"
   ]
  }
 ],
 "metadata": {
  "kernelspec": {
   "display_name": "Python 3 (ipykernel)",
   "language": "python",
   "name": "python3"
  },
  "language_info": {
   "codemirror_mode": {
    "name": "ipython",
    "version": 3
   },
   "file_extension": ".py",
   "mimetype": "text/x-python",
   "name": "python",
   "nbconvert_exporter": "python",
   "pygments_lexer": "ipython3",
   "version": "3.9.7"
  }
 },
 "nbformat": 4,
 "nbformat_minor": 5
}
