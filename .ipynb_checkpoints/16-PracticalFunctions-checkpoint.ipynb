{
 "cells": [
  {
   "cell_type": "markdown",
   "id": "e960e86c",
   "metadata": {},
   "source": [
    "# Hazır Fonksiyonların Kullanım Örnekleri"
   ]
  },
  {
   "cell_type": "code",
   "execution_count": 1,
   "id": "9024911e",
   "metadata": {},
   "outputs": [],
   "source": [
    "def divideNumber(number):\n",
    "    return number /2"
   ]
  },
  {
   "cell_type": "code",
   "execution_count": 2,
   "id": "aa25c716",
   "metadata": {},
   "outputs": [
    {
     "data": {
      "text/plain": [
       "10.0"
      ]
     },
     "execution_count": 2,
     "metadata": {},
     "output_type": "execute_result"
    }
   ],
   "source": [
    "divideNumber(20)"
   ]
  },
  {
   "cell_type": "code",
   "execution_count": 3,
   "id": "5005589d",
   "metadata": {},
   "outputs": [],
   "source": [
    "myList = [3,5,7,10,20,30]"
   ]
  },
  {
   "cell_type": "code",
   "execution_count": 4,
   "id": "11054341",
   "metadata": {},
   "outputs": [
    {
     "name": "stdout",
     "output_type": "stream",
     "text": [
      "[1.5, 2.5, 3.5, 5.0, 10.0, 15.0]\n"
     ]
    }
   ],
   "source": [
    "myResultList = []\n",
    "for num in myList:\n",
    "    myResultList.append(divideNumber(num))\n",
    "print(myResultList)"
   ]
  },
  {
   "cell_type": "markdown",
   "id": "a8fb71da",
   "metadata": {},
   "source": [
    "## map"
   ]
  },
  {
   "cell_type": "markdown",
   "id": "af7fcc05",
   "metadata": {},
   "source": [
    "Bir listeyi veya koleksiyonu alıp üzerinde işlemler uygulayarak yeni bir koleksiyon veya listeye ekliyor."
   ]
  },
  {
   "cell_type": "code",
   "execution_count": 5,
   "id": "db93e886",
   "metadata": {},
   "outputs": [
    {
     "name": "stdout",
     "output_type": "stream",
     "text": [
      "Help on class map in module builtins:\n",
      "\n",
      "class map(object)\n",
      " |  map(func, *iterables) --> map object\n",
      " |  \n",
      " |  Make an iterator that computes the function using arguments from\n",
      " |  each of the iterables.  Stops when the shortest iterable is exhausted.\n",
      " |  \n",
      " |  Methods defined here:\n",
      " |  \n",
      " |  __getattribute__(self, name, /)\n",
      " |      Return getattr(self, name).\n",
      " |  \n",
      " |  __iter__(self, /)\n",
      " |      Implement iter(self).\n",
      " |  \n",
      " |  __next__(self, /)\n",
      " |      Implement next(self).\n",
      " |  \n",
      " |  __reduce__(...)\n",
      " |      Return state information for pickling.\n",
      " |  \n",
      " |  ----------------------------------------------------------------------\n",
      " |  Static methods defined here:\n",
      " |  \n",
      " |  __new__(*args, **kwargs) from builtins.type\n",
      " |      Create and return a new object.  See help(type) for accurate signature.\n",
      "\n"
     ]
    }
   ],
   "source": [
    "help(map)"
   ]
  },
  {
   "cell_type": "markdown",
   "id": "e69dcef3",
   "metadata": {},
   "source": [
    "map aslında bir function değil class'tır."
   ]
  },
  {
   "cell_type": "code",
   "execution_count": 6,
   "id": "1e3d3686",
   "metadata": {},
   "outputs": [
    {
     "data": {
      "text/plain": [
       "<map at 0x1dbf6ad58b0>"
      ]
     },
     "execution_count": 6,
     "metadata": {},
     "output_type": "execute_result"
    }
   ],
   "source": [
    "map(divideNumber,myList)"
   ]
  },
  {
   "cell_type": "markdown",
   "id": "72ee5428",
   "metadata": {},
   "source": [
    "hafızada 0x1dbf6ad58b0'a kaydetmiş oldu"
   ]
  },
  {
   "cell_type": "code",
   "execution_count": 7,
   "id": "0288b61d",
   "metadata": {},
   "outputs": [
    {
     "data": {
      "text/plain": [
       "[1.5, 2.5, 3.5, 5.0, 10.0, 15.0]"
      ]
     },
     "execution_count": 7,
     "metadata": {},
     "output_type": "execute_result"
    }
   ],
   "source": [
    "list(map(divideNumber,myList))"
   ]
  },
  {
   "cell_type": "markdown",
   "id": "a75438ef",
   "metadata": {},
   "source": [
    "Bu kullanım sayesinde yukarıdaki gibi boş bir list oluşturup sonuçları içine atmamıza gerek yok."
   ]
  },
  {
   "cell_type": "code",
   "execution_count": 8,
   "id": "d60498f1",
   "metadata": {},
   "outputs": [],
   "source": [
    "def controlString(string):\n",
    "    return \"Atil\" in string"
   ]
  },
  {
   "cell_type": "code",
   "execution_count": 9,
   "id": "7bb907ab",
   "metadata": {},
   "outputs": [
    {
     "data": {
      "text/plain": [
       "True"
      ]
     },
     "execution_count": 9,
     "metadata": {},
     "output_type": "execute_result"
    }
   ],
   "source": [
    "controlString(\"Atil Samancioglu\")"
   ]
  },
  {
   "cell_type": "code",
   "execution_count": 10,
   "id": "c236a42f",
   "metadata": {},
   "outputs": [
    {
     "data": {
      "text/plain": [
       "False"
      ]
     },
     "execution_count": 10,
     "metadata": {},
     "output_type": "execute_result"
    }
   ],
   "source": [
    "controlString(\"Samancioglu\")"
   ]
  },
  {
   "cell_type": "code",
   "execution_count": 11,
   "id": "8f68dee6",
   "metadata": {},
   "outputs": [],
   "source": [
    "myStringList = [\"Atil\",\"Atil Samancioglu\",\"Samancioglu\",\"Atlas\"]"
   ]
  },
  {
   "cell_type": "code",
   "execution_count": 12,
   "id": "07253d60",
   "metadata": {},
   "outputs": [
    {
     "data": {
      "text/plain": [
       "[True, True, False, False]"
      ]
     },
     "execution_count": 12,
     "metadata": {},
     "output_type": "execute_result"
    }
   ],
   "source": [
    "list(map(controlString,myStringList))"
   ]
  },
  {
   "cell_type": "markdown",
   "id": "8d1ecf02",
   "metadata": {},
   "source": [
    "myStringList'i controlString fonksiyonuna uyarlayıp çıktı aldık."
   ]
  },
  {
   "cell_type": "markdown",
   "id": "46915d35",
   "metadata": {},
   "source": [
    "### Filter: Koleksiyondaki verileri filtreleyip sadece istediklerini göstermeyi sağlayan fonksiyondur."
   ]
  },
  {
   "cell_type": "code",
   "execution_count": 13,
   "id": "028ed548",
   "metadata": {},
   "outputs": [
    {
     "data": {
      "text/plain": [
       "<filter at 0x1dbf70df760>"
      ]
     },
     "execution_count": 13,
     "metadata": {},
     "output_type": "execute_result"
    }
   ],
   "source": [
    "filter(controlString,myStringList)"
   ]
  },
  {
   "cell_type": "code",
   "execution_count": 14,
   "id": "f5501faf",
   "metadata": {},
   "outputs": [
    {
     "data": {
      "text/plain": [
       "['Atil', 'Atil Samancioglu']"
      ]
     },
     "execution_count": 14,
     "metadata": {},
     "output_type": "execute_result"
    }
   ],
   "source": [
    "list(filter(controlString,myStringList))"
   ]
  },
  {
   "cell_type": "markdown",
   "id": "6157db75",
   "metadata": {},
   "source": [
    "### lambda "
   ]
  },
  {
   "cell_type": "markdown",
   "id": "ddc545b5",
   "metadata": {},
   "source": [
    "Anonim fonksiyonlar veya sonradan kullanmamıza gerek kalmayacak tek satırda yazıp hızlıca tanımlayacağımız hatta def keyword'ünü bile kullanmamıza gerek kalmayacak fonksiyonlardır"
   ]
  },
  {
   "cell_type": "code",
   "execution_count": 15,
   "id": "23d3249f",
   "metadata": {},
   "outputs": [],
   "source": [
    "multiplyLambda = lambda num : num * 3"
   ]
  },
  {
   "cell_type": "code",
   "execution_count": 16,
   "id": "a242a04e",
   "metadata": {},
   "outputs": [
    {
     "data": {
      "text/plain": [
       "function"
      ]
     },
     "execution_count": 16,
     "metadata": {},
     "output_type": "execute_result"
    }
   ],
   "source": [
    "type(multiplyLambda)"
   ]
  },
  {
   "cell_type": "code",
   "execution_count": 17,
   "id": "dd0ff946",
   "metadata": {},
   "outputs": [
    {
     "data": {
      "text/plain": [
       "60"
      ]
     },
     "execution_count": 17,
     "metadata": {},
     "output_type": "execute_result"
    }
   ],
   "source": [
    "multiplyLambda(20)"
   ]
  },
  {
   "cell_type": "code",
   "execution_count": 18,
   "id": "7daa81e1",
   "metadata": {},
   "outputs": [],
   "source": [
    "result = multiplyLambda(10)"
   ]
  },
  {
   "cell_type": "code",
   "execution_count": 19,
   "id": "c4626235",
   "metadata": {},
   "outputs": [
    {
     "data": {
      "text/plain": [
       "30"
      ]
     },
     "execution_count": 19,
     "metadata": {},
     "output_type": "execute_result"
    }
   ],
   "source": [
    "result"
   ]
  },
  {
   "cell_type": "markdown",
   "id": "9281ed5d",
   "metadata": {},
   "source": [
    "###### lambda'nın anonim fonksiyon olarak kullanımı :"
   ]
  },
  {
   "cell_type": "code",
   "execution_count": 20,
   "id": "37146473",
   "metadata": {},
   "outputs": [],
   "source": [
    "numList = [10,20,30,40,50]"
   ]
  },
  {
   "cell_type": "code",
   "execution_count": 21,
   "id": "01da4ae9",
   "metadata": {},
   "outputs": [
    {
     "data": {
      "text/plain": [
       "[2.5, 5.0, 7.5, 10.0, 12.5]"
      ]
     },
     "execution_count": 21,
     "metadata": {},
     "output_type": "execute_result"
    }
   ],
   "source": [
    "list(map(lambda num:num/4, numList))"
   ]
  },
  {
   "cell_type": "markdown",
   "id": "e014d0a9",
   "metadata": {},
   "source": [
    "# Scope"
   ]
  },
  {
   "cell_type": "code",
   "execution_count": 24,
   "id": "dfb02021",
   "metadata": {},
   "outputs": [],
   "source": [
    "x = 20\n",
    "\n",
    "def multiply(num):\n",
    "    x=5\n",
    "    return num * x"
   ]
  },
  {
   "cell_type": "code",
   "execution_count": 25,
   "id": "f2884fa5",
   "metadata": {},
   "outputs": [
    {
     "data": {
      "text/plain": [
       "50"
      ]
     },
     "execution_count": 25,
     "metadata": {},
     "output_type": "execute_result"
    }
   ],
   "source": [
    "multiply(10)"
   ]
  },
  {
   "cell_type": "code",
   "execution_count": 26,
   "id": "63a4e677",
   "metadata": {},
   "outputs": [
    {
     "name": "stdout",
     "output_type": "stream",
     "text": [
      "20\n"
     ]
    }
   ],
   "source": [
    "print(x)"
   ]
  },
  {
   "cell_type": "code",
   "execution_count": 27,
   "id": "e5b7be37",
   "metadata": {},
   "outputs": [],
   "source": [
    "a = 10"
   ]
  },
  {
   "cell_type": "code",
   "execution_count": 28,
   "id": "bf6f59c9",
   "metadata": {},
   "outputs": [
    {
     "name": "stdout",
     "output_type": "stream",
     "text": [
      "10\n"
     ]
    }
   ],
   "source": [
    "print(a)"
   ]
  },
  {
   "cell_type": "code",
   "execution_count": 29,
   "id": "e14316b7",
   "metadata": {},
   "outputs": [],
   "source": [
    "a =20"
   ]
  },
  {
   "cell_type": "code",
   "execution_count": 30,
   "id": "34adb5be",
   "metadata": {},
   "outputs": [
    {
     "data": {
      "text/plain": [
       "20"
      ]
     },
     "execution_count": 30,
     "metadata": {},
     "output_type": "execute_result"
    }
   ],
   "source": [
    "a"
   ]
  },
  {
   "cell_type": "code",
   "execution_count": 31,
   "id": "f32e1d58",
   "metadata": {},
   "outputs": [
    {
     "data": {
      "text/plain": [
       "20"
      ]
     },
     "execution_count": 31,
     "metadata": {},
     "output_type": "execute_result"
    }
   ],
   "source": [
    "x"
   ]
  },
  {
   "cell_type": "code",
   "execution_count": 32,
   "id": "4cfb6a38",
   "metadata": {},
   "outputs": [],
   "source": [
    "x = 20\n",
    "\n",
    "def multiply(num):\n",
    "    x=5\n",
    "    return num * x\n",
    "x=10"
   ]
  },
  {
   "cell_type": "code",
   "execution_count": 33,
   "id": "1052fb19",
   "metadata": {},
   "outputs": [
    {
     "data": {
      "text/plain": [
       "10"
      ]
     },
     "execution_count": 33,
     "metadata": {},
     "output_type": "execute_result"
    }
   ],
   "source": [
    "x"
   ]
  },
  {
   "cell_type": "code",
   "execution_count": 34,
   "id": "d144fff3",
   "metadata": {},
   "outputs": [
    {
     "data": {
      "text/plain": [
       "15"
      ]
     },
     "execution_count": 34,
     "metadata": {},
     "output_type": "execute_result"
    }
   ],
   "source": [
    "multiply(3)"
   ]
  },
  {
   "cell_type": "code",
   "execution_count": 35,
   "id": "399433f5",
   "metadata": {},
   "outputs": [],
   "source": [
    "x = 20\n",
    "\n",
    "def multiply(num):\n",
    "    return num * x"
   ]
  },
  {
   "cell_type": "code",
   "execution_count": 37,
   "id": "c2e30f38",
   "metadata": {},
   "outputs": [
    {
     "data": {
      "text/plain": [
       "200"
      ]
     },
     "execution_count": 37,
     "metadata": {},
     "output_type": "execute_result"
    }
   ],
   "source": [
    "multiply(10)  # bu kez x = 20 kullandı"
   ]
  },
  {
   "cell_type": "markdown",
   "id": "b53eb030",
   "metadata": {},
   "source": [
    "## LEGB (L -> Local, E -> Enclosing, G -> Global, B -> Built-In)"
   ]
  },
  {
   "cell_type": "code",
   "execution_count": 38,
   "id": "0d7491db",
   "metadata": {},
   "outputs": [],
   "source": [
    "myString = \"Atıl\"\n",
    "\n",
    "def myFunction():\n",
    "    myString = \"Atıl 2\"\n",
    "    \n",
    "    def myFunction2():\n",
    "        myString = \"Atıl 3\"\n",
    "        print(myString)"
   ]
  },
  {
   "cell_type": "code",
   "execution_count": 39,
   "id": "f87263b6",
   "metadata": {},
   "outputs": [
    {
     "data": {
      "text/plain": [
       "'Atıl'"
      ]
     },
     "execution_count": 39,
     "metadata": {},
     "output_type": "execute_result"
    }
   ],
   "source": [
    "myString"
   ]
  },
  {
   "cell_type": "code",
   "execution_count": 40,
   "id": "35ba3319",
   "metadata": {},
   "outputs": [],
   "source": [
    "myFunction()"
   ]
  },
  {
   "cell_type": "code",
   "execution_count": 42,
   "id": "b3ba2209",
   "metadata": {},
   "outputs": [
    {
     "data": {
      "text/plain": [
       "'Atıl'"
      ]
     },
     "execution_count": 42,
     "metadata": {},
     "output_type": "execute_result"
    }
   ],
   "source": [
    "myString"
   ]
  },
  {
   "cell_type": "code",
   "execution_count": 43,
   "id": "6bf91975",
   "metadata": {},
   "outputs": [],
   "source": [
    "# GLOBAL\n",
    "myString = \"Atıl\"\n",
    "\n",
    "def myFunction():\n",
    "    # ENCLOSING\n",
    "    myString = \"Atıl 2\"\n",
    "    print(myString)    \n",
    "    def myFunction2():\n",
    "        # LOCAL\n",
    "        myString = \"Atıl 3\"\n",
    "        print(myString)\n",
    "    myFunction2()"
   ]
  },
  {
   "cell_type": "code",
   "execution_count": 44,
   "id": "5212aee7",
   "metadata": {},
   "outputs": [
    {
     "data": {
      "text/plain": [
       "'Atıl'"
      ]
     },
     "execution_count": 44,
     "metadata": {},
     "output_type": "execute_result"
    }
   ],
   "source": [
    "myString"
   ]
  },
  {
   "cell_type": "code",
   "execution_count": 45,
   "id": "6b6da239",
   "metadata": {},
   "outputs": [
    {
     "name": "stdout",
     "output_type": "stream",
     "text": [
      "Atıl 2\n",
      "Atıl 3\n"
     ]
    }
   ],
   "source": [
    "myFunction()"
   ]
  },
  {
   "cell_type": "code",
   "execution_count": 46,
   "id": "09f71fcf",
   "metadata": {},
   "outputs": [
    {
     "data": {
      "text/plain": [
       "'Atıl'"
      ]
     },
     "execution_count": 46,
     "metadata": {},
     "output_type": "execute_result"
    }
   ],
   "source": [
    "myString"
   ]
  },
  {
   "cell_type": "markdown",
   "id": "296c9025",
   "metadata": {},
   "source": [
    "- Local -> En küçük birimde tanımlanan değerler\n",
    "- Encloding -> Local değeri çevreleyen en küçük yapı neyse (örn funksiyon, sınıf) onun içind etanım var mı\n",
    "- Global -> Fonksiyon veya sınıfın dışında tanımlanmış değer var mı?\n",
    "- Built_In -> Python'da tanımlanmış bir değer var mı?"
   ]
  },
  {
   "cell_type": "code",
   "execution_count": 48,
   "id": "40abd74a",
   "metadata": {},
   "outputs": [],
   "source": [
    "def test1():\n",
    "    myVariable = 10\n",
    "    print(myVariable * 2)\n",
    "\n",
    "def test2():\n",
    "    print(myVariable * 3)"
   ]
  },
  {
   "cell_type": "code",
   "execution_count": 49,
   "id": "330c8a03",
   "metadata": {},
   "outputs": [
    {
     "name": "stdout",
     "output_type": "stream",
     "text": [
      "20\n"
     ]
    }
   ],
   "source": [
    "test1()"
   ]
  },
  {
   "cell_type": "code",
   "execution_count": 50,
   "id": "e4eec12b",
   "metadata": {},
   "outputs": [
    {
     "ename": "NameError",
     "evalue": "name 'myVariable' is not defined",
     "output_type": "error",
     "traceback": [
      "\u001b[1;31m---------------------------------------------------------------------------\u001b[0m",
      "\u001b[1;31mNameError\u001b[0m                                 Traceback (most recent call last)",
      "\u001b[1;32m~\\AppData\\Local\\Temp/ipykernel_10884/2251835413.py\u001b[0m in \u001b[0;36m<module>\u001b[1;34m\u001b[0m\n\u001b[1;32m----> 1\u001b[1;33m \u001b[0mtest2\u001b[0m\u001b[1;33m(\u001b[0m\u001b[1;33m)\u001b[0m\u001b[1;33m\u001b[0m\u001b[1;33m\u001b[0m\u001b[0m\n\u001b[0m",
      "\u001b[1;32m~\\AppData\\Local\\Temp/ipykernel_10884/816287741.py\u001b[0m in \u001b[0;36mtest2\u001b[1;34m()\u001b[0m\n\u001b[0;32m      4\u001b[0m \u001b[1;33m\u001b[0m\u001b[0m\n\u001b[0;32m      5\u001b[0m \u001b[1;32mdef\u001b[0m \u001b[0mtest2\u001b[0m\u001b[1;33m(\u001b[0m\u001b[1;33m)\u001b[0m\u001b[1;33m:\u001b[0m\u001b[1;33m\u001b[0m\u001b[1;33m\u001b[0m\u001b[0m\n\u001b[1;32m----> 6\u001b[1;33m     \u001b[0mprint\u001b[0m\u001b[1;33m(\u001b[0m\u001b[0mmyVariable\u001b[0m \u001b[1;33m*\u001b[0m \u001b[1;36m3\u001b[0m\u001b[1;33m)\u001b[0m\u001b[1;33m\u001b[0m\u001b[1;33m\u001b[0m\u001b[0m\n\u001b[0m",
      "\u001b[1;31mNameError\u001b[0m: name 'myVariable' is not defined"
     ]
    }
   ],
   "source": [
    "test2()"
   ]
  },
  {
   "cell_type": "code",
   "execution_count": 54,
   "id": "dabcd20f",
   "metadata": {},
   "outputs": [],
   "source": [
    "y= 10\n",
    "def newFunction(y):\n",
    "    print(y)\n",
    "    y = 5\n",
    "    print(y)\n",
    "    return(y)"
   ]
  },
  {
   "cell_type": "code",
   "execution_count": 55,
   "id": "87460229",
   "metadata": {},
   "outputs": [
    {
     "name": "stdout",
     "output_type": "stream",
     "text": [
      "10\n",
      "5\n"
     ]
    },
    {
     "data": {
      "text/plain": [
       "5"
      ]
     },
     "execution_count": 55,
     "metadata": {},
     "output_type": "execute_result"
    }
   ],
   "source": [
    "newFunction(10)"
   ]
  },
  {
   "cell_type": "code",
   "execution_count": 56,
   "id": "0fc3009c",
   "metadata": {},
   "outputs": [
    {
     "data": {
      "text/plain": [
       "10"
      ]
     },
     "execution_count": 56,
     "metadata": {},
     "output_type": "execute_result"
    }
   ],
   "source": [
    "y"
   ]
  },
  {
   "cell_type": "code",
   "execution_count": 57,
   "id": "e3efef50",
   "metadata": {},
   "outputs": [],
   "source": [
    "y = 10\n",
    "\n",
    "def changeY():\n",
    "    global y    # global'de tenımladığımız y'yi alır\n",
    "    y = 5\n",
    "    print(y)"
   ]
  },
  {
   "cell_type": "code",
   "execution_count": 58,
   "id": "a3f546f2",
   "metadata": {},
   "outputs": [
    {
     "name": "stdout",
     "output_type": "stream",
     "text": [
      "5\n"
     ]
    }
   ],
   "source": [
    "changeY()"
   ]
  },
  {
   "cell_type": "code",
   "execution_count": 59,
   "id": "48186e8d",
   "metadata": {},
   "outputs": [
    {
     "data": {
      "text/plain": [
       "5"
      ]
     },
     "execution_count": 59,
     "metadata": {},
     "output_type": "execute_result"
    }
   ],
   "source": [
    "y"
   ]
  },
  {
   "cell_type": "code",
   "execution_count": null,
   "id": "05971c7e",
   "metadata": {},
   "outputs": [],
   "source": []
  }
 ],
 "metadata": {
  "kernelspec": {
   "display_name": "Python 3 (ipykernel)",
   "language": "python",
   "name": "python3"
  },
  "language_info": {
   "codemirror_mode": {
    "name": "ipython",
    "version": 3
   },
   "file_extension": ".py",
   "mimetype": "text/x-python",
   "name": "python",
   "nbconvert_exporter": "python",
   "pygments_lexer": "ipython3",
   "version": "3.9.7"
  }
 },
 "nbformat": 4,
 "nbformat_minor": 5
}
