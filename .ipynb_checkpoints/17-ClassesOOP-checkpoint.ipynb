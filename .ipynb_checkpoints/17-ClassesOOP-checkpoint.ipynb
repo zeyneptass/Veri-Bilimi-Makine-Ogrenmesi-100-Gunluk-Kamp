{
 "cells": [
  {
   "cell_type": "markdown",
   "id": "28e91024",
   "metadata": {},
   "source": [
    "# OOP"
   ]
  },
  {
   "cell_type": "markdown",
   "id": "2ddb44bb",
   "metadata": {},
   "source": [
    "## Class"
   ]
  },
  {
   "cell_type": "code",
   "execution_count": 1,
   "id": "29c9e686",
   "metadata": {},
   "outputs": [],
   "source": [
    "atilName = \"Atil\""
   ]
  },
  {
   "cell_type": "code",
   "execution_count": 2,
   "id": "b3985aeb",
   "metadata": {},
   "outputs": [],
   "source": [
    "atilAge = 90"
   ]
  },
  {
   "cell_type": "code",
   "execution_count": 3,
   "id": "dc127d6f",
   "metadata": {},
   "outputs": [],
   "source": [
    "atilGender = \"Male\""
   ]
  },
  {
   "cell_type": "markdown",
   "id": "1e8f650e",
   "metadata": {},
   "source": [
    "Class nesne üretirken nesneye vereceğimiz özellikleri içinde tutar."
   ]
  },
  {
   "cell_type": "code",
   "execution_count": 4,
   "id": "64a7f49e",
   "metadata": {},
   "outputs": [],
   "source": [
    "atlasName = \"Atlas\""
   ]
  },
  {
   "cell_type": "code",
   "execution_count": 5,
   "id": "a5c947b1",
   "metadata": {},
   "outputs": [],
   "source": [
    "atlasAge = 10"
   ]
  },
  {
   "cell_type": "code",
   "execution_count": 6,
   "id": "ef5712df",
   "metadata": {},
   "outputs": [],
   "source": [
    "atlasGender = \"Male\""
   ]
  },
  {
   "cell_type": "markdown",
   "id": "b58a9417",
   "metadata": {},
   "source": [
    "Sınıflar büyük harfle tanımlanır fonksiton ve mothod'larla karıştırılmaması için"
   ]
  },
  {
   "cell_type": "code",
   "execution_count": 33,
   "id": "90c0caf1",
   "metadata": {},
   "outputs": [],
   "source": [
    "class Person():\n",
    "    name = \"\"\n",
    "    age = 0\n",
    "    gender = \"\"\n",
    "    \n",
    "    #method, initializer (sınıf içindeki özel fonksiyonlar)\n",
    "    def __init__(self):  # sınıf içerisinde bir metod tanımladığımız için self keyword'ünü koymamız gerekir.\n",
    "        print(\"init executed\")        "
   ]
  },
  {
   "cell_type": "markdown",
   "id": "82e17d80",
   "metadata": {},
   "source": [
    "initialize etmek : ilk oluşturmak, değerini atamak"
   ]
  },
  {
   "cell_type": "markdown",
   "id": "25508bbb",
   "metadata": {},
   "source": [
    "Yukarıdaki fonksiyonda her obje oluşturulduğunda init fonksiyonu çalıştırılacak"
   ]
  },
  {
   "cell_type": "code",
   "execution_count": 34,
   "id": "e5db8b63",
   "metadata": {},
   "outputs": [
    {
     "name": "stdout",
     "output_type": "stream",
     "text": [
      "init executed\n"
     ]
    }
   ],
   "source": [
    "atil = Person()"
   ]
  },
  {
   "cell_type": "code",
   "execution_count": 35,
   "id": "7bd2a838",
   "metadata": {},
   "outputs": [
    {
     "name": "stdout",
     "output_type": "stream",
     "text": [
      "init executed\n"
     ]
    }
   ],
   "source": [
    "atlas = Person()"
   ]
  },
  {
   "cell_type": "code",
   "execution_count": 28,
   "id": "63a696ed",
   "metadata": {},
   "outputs": [
    {
     "data": {
      "text/plain": [
       "__main__.Person"
      ]
     },
     "execution_count": 28,
     "metadata": {},
     "output_type": "execute_result"
    }
   ],
   "source": [
    "type(atil)  # main class'ta bir object olduğu görülür"
   ]
  },
  {
   "cell_type": "markdown",
   "id": "ea13fa50",
   "metadata": {},
   "source": [
    "Init fonksiyonuna parametre değerler de verebilirim."
   ]
  },
  {
   "cell_type": "code",
   "execution_count": 36,
   "id": "bd7126fb",
   "metadata": {},
   "outputs": [],
   "source": [
    "class Person():\n",
    "    name = \"\"\n",
    "    age = 0\n",
    "    gender = \"\"\n",
    "    \n",
    "    #method, initializer (sınıf içindeki özel fonksiyonlar)\n",
    "    def __init__(self, nameInput, ageInput, genderInput):  # karışıklık olmasın diye parametre isimlerini farklı verdik\n",
    "        name = nameInput\n",
    "        age = ageInput\n",
    "        gender = genderInput"
   ]
  },
  {
   "cell_type": "code",
   "execution_count": 37,
   "id": "d04c8e1f",
   "metadata": {},
   "outputs": [
    {
     "ename": "TypeError",
     "evalue": "__init__() missing 3 required positional arguments: 'nameInput', 'ageInput', and 'genderInput'",
     "output_type": "error",
     "traceback": [
      "\u001b[1;31m---------------------------------------------------------------------------\u001b[0m",
      "\u001b[1;31mTypeError\u001b[0m                                 Traceback (most recent call last)",
      "\u001b[1;32m~\\AppData\\Local\\Temp/ipykernel_3304/2897055337.py\u001b[0m in \u001b[0;36m<module>\u001b[1;34m\u001b[0m\n\u001b[1;32m----> 1\u001b[1;33m \u001b[0matil\u001b[0m \u001b[1;33m=\u001b[0m \u001b[0mPerson\u001b[0m\u001b[1;33m(\u001b[0m\u001b[1;33m)\u001b[0m\u001b[1;33m\u001b[0m\u001b[1;33m\u001b[0m\u001b[0m\n\u001b[0m",
      "\u001b[1;31mTypeError\u001b[0m: __init__() missing 3 required positional arguments: 'nameInput', 'ageInput', and 'genderInput'"
     ]
    }
   ],
   "source": [
    "atil = Person() # parametre vermediği için hata verir"
   ]
  },
  {
   "cell_type": "code",
   "execution_count": 38,
   "id": "4edd6486",
   "metadata": {},
   "outputs": [],
   "source": [
    "atil = Person(\"Atil\",35,\"Male\")"
   ]
  },
  {
   "cell_type": "code",
   "execution_count": 39,
   "id": "59e94d7e",
   "metadata": {},
   "outputs": [
    {
     "data": {
      "text/plain": [
       "__main__.Person"
      ]
     },
     "execution_count": 39,
     "metadata": {},
     "output_type": "execute_result"
    }
   ],
   "source": [
    "type(atil)"
   ]
  },
  {
   "cell_type": "code",
   "execution_count": 40,
   "id": "36f4c912",
   "metadata": {},
   "outputs": [
    {
     "data": {
      "text/plain": [
       "''"
      ]
     },
     "execution_count": 40,
     "metadata": {},
     "output_type": "execute_result"
    }
   ],
   "source": [
    "atil.name"
   ]
  },
  {
   "cell_type": "code",
   "execution_count": 41,
   "id": "020edc9c",
   "metadata": {},
   "outputs": [
    {
     "data": {
      "text/plain": [
       "0"
      ]
     },
     "execution_count": 41,
     "metadata": {},
     "output_type": "execute_result"
    }
   ],
   "source": [
    "atil.age"
   ]
  },
  {
   "cell_type": "code",
   "execution_count": 42,
   "id": "e9f4f886",
   "metadata": {},
   "outputs": [
    {
     "data": {
      "text/plain": [
       "''"
      ]
     },
     "execution_count": 42,
     "metadata": {},
     "output_type": "execute_result"
    }
   ],
   "source": [
    "atil.gender"
   ]
  },
  {
   "cell_type": "markdown",
   "id": "20ed4eef",
   "metadata": {},
   "source": [
    "### Self"
   ]
  },
  {
   "cell_type": "markdown",
   "id": "3b5a6d44",
   "metadata": {},
   "source": [
    "self -> sınıfın kendisine referans veriyor biz yukarda sınıfa referans vermediğimiz için parametre değerlerini göremiyoruz. Sınıf içindeki property'lere erişmek için kullanılır."
   ]
  },
  {
   "cell_type": "code",
   "execution_count": 53,
   "id": "f521d7f0",
   "metadata": {},
   "outputs": [],
   "source": [
    "class Person():\n",
    "    # property\n",
    "    name = \"\"\n",
    "    age = 0\n",
    "    gender = \"\"\n",
    "    \n",
    "    #method, initializer (sınıf içindeki özel fonksiyonlar)\n",
    "    def __init__(self, name, age, gender):  # self sayesinde farklı isimler vermemize de gerek kalmadı\n",
    "        self.name = name\n",
    "        self.age = age\n",
    "        self.gender = gender\n",
    "    def test(self):\n",
    "        prit(\"test\")\n",
    "        # hiçbir parametre bile alamyacak olsa sınıf içinde tanımladığımız metodlarda self parametresini vermeliyiz."
   ]
  },
  {
   "cell_type": "code",
   "execution_count": 54,
   "id": "57818494",
   "metadata": {},
   "outputs": [],
   "source": [
    "atil = Person(\"Atil\",35,\"Male\")"
   ]
  },
  {
   "cell_type": "code",
   "execution_count": 55,
   "id": "23201e2c",
   "metadata": {},
   "outputs": [
    {
     "data": {
      "text/plain": [
       "'Atil'"
      ]
     },
     "execution_count": 55,
     "metadata": {},
     "output_type": "execute_result"
    }
   ],
   "source": [
    "atil.name"
   ]
  },
  {
   "cell_type": "code",
   "execution_count": 56,
   "id": "ff49bafd",
   "metadata": {},
   "outputs": [
    {
     "data": {
      "text/plain": [
       "35"
      ]
     },
     "execution_count": 56,
     "metadata": {},
     "output_type": "execute_result"
    }
   ],
   "source": [
    "atil.age"
   ]
  },
  {
   "cell_type": "code",
   "execution_count": 57,
   "id": "97d026ec",
   "metadata": {},
   "outputs": [
    {
     "data": {
      "text/plain": [
       "'Male'"
      ]
     },
     "execution_count": 57,
     "metadata": {},
     "output_type": "execute_result"
    }
   ],
   "source": [
    "atil.gender"
   ]
  },
  {
   "cell_type": "markdown",
   "id": "2e8e7abf",
   "metadata": {},
   "source": [
    "##### Python'da property'leri yazmadan da class içinde method tanımlayabiliriz."
   ]
  },
  {
   "cell_type": "code",
   "execution_count": 61,
   "id": "dcf9f715",
   "metadata": {},
   "outputs": [],
   "source": [
    "class Person():\n",
    "    # property\n",
    "    job = \"\"\n",
    "    \n",
    "    #method, initializer (sınıf içindeki özel fonksiyonlar)\n",
    "    def __init__(self, name, age, gender):  \n",
    "        self.name = name\n",
    "        self.age = age\n",
    "        self.gender = gender"
   ]
  },
  {
   "cell_type": "code",
   "execution_count": 62,
   "id": "3cdd7aea",
   "metadata": {},
   "outputs": [],
   "source": [
    "atil = Person(\"Atil\",35,\"Male\")"
   ]
  },
  {
   "cell_type": "code",
   "execution_count": 63,
   "id": "e0eec574",
   "metadata": {},
   "outputs": [
    {
     "data": {
      "text/plain": [
       "'Male'"
      ]
     },
     "execution_count": 63,
     "metadata": {},
     "output_type": "execute_result"
    }
   ],
   "source": [
    "atil.gender"
   ]
  },
  {
   "cell_type": "code",
   "execution_count": 65,
   "id": "095b6bf5",
   "metadata": {},
   "outputs": [],
   "source": [
    "atil.job = \"Developer\""
   ]
  },
  {
   "cell_type": "code",
   "execution_count": 66,
   "id": "79ca427e",
   "metadata": {},
   "outputs": [
    {
     "data": {
      "text/plain": [
       "'Developer'"
      ]
     },
     "execution_count": 66,
     "metadata": {},
     "output_type": "execute_result"
    }
   ],
   "source": [
    "atil.job"
   ]
  },
  {
   "cell_type": "markdown",
   "id": "70a5c04d",
   "metadata": {},
   "source": [
    "job property'sini zorunlu olmadağı için property'lere yazdık fakat init metoduna yazmadık. Hatta default değer vererek tanımlamadan tüm nesnelere otomatik değer de atayabiliriz."
   ]
  },
  {
   "cell_type": "code",
   "execution_count": 73,
   "id": "7e8ec2cd",
   "metadata": {},
   "outputs": [],
   "source": [
    "class Dog():\n",
    "    \n",
    "    year = 7\n",
    "    \n",
    "    def __init__(self,age):\n",
    "        self.age = age\n",
    "    \n",
    "    def humanAge(self):\n",
    "        return self.age * self.year"
   ]
  },
  {
   "cell_type": "code",
   "execution_count": 74,
   "id": "b0daef34",
   "metadata": {},
   "outputs": [],
   "source": [
    "myDog = Dog(3)"
   ]
  },
  {
   "cell_type": "code",
   "execution_count": 75,
   "id": "ef53372f",
   "metadata": {},
   "outputs": [
    {
     "data": {
      "text/plain": [
       "3"
      ]
     },
     "execution_count": 75,
     "metadata": {},
     "output_type": "execute_result"
    }
   ],
   "source": [
    "myDog.age"
   ]
  },
  {
   "cell_type": "code",
   "execution_count": 76,
   "id": "4ebd4223",
   "metadata": {},
   "outputs": [
    {
     "data": {
      "text/plain": [
       "21"
      ]
     },
     "execution_count": 76,
     "metadata": {},
     "output_type": "execute_result"
    }
   ],
   "source": [
    "myDog.humanAge()"
   ]
  },
  {
   "cell_type": "markdown",
   "id": "d2eee50b",
   "metadata": {},
   "source": [
    "##### Dog.year = self.year"
   ]
  },
  {
   "cell_type": "code",
   "execution_count": 77,
   "id": "5f6e8284",
   "metadata": {},
   "outputs": [],
   "source": [
    "class Dog():\n",
    "    \n",
    "    year = 7\n",
    "    \n",
    "    def __init__(self,age):\n",
    "        self.age = age\n",
    "    \n",
    "    def humanAge(self):\n",
    "        return self.age * Dog.year"
   ]
  },
  {
   "cell_type": "code",
   "execution_count": 78,
   "id": "1c23e96f",
   "metadata": {},
   "outputs": [],
   "source": [
    "myDog = Dog(4)"
   ]
  },
  {
   "cell_type": "code",
   "execution_count": 79,
   "id": "e39712fe",
   "metadata": {},
   "outputs": [
    {
     "data": {
      "text/plain": [
       "4"
      ]
     },
     "execution_count": 79,
     "metadata": {},
     "output_type": "execute_result"
    }
   ],
   "source": [
    "myDog.age"
   ]
  },
  {
   "cell_type": "code",
   "execution_count": 81,
   "id": "a982bed9",
   "metadata": {},
   "outputs": [
    {
     "data": {
      "text/plain": [
       "28"
      ]
     },
     "execution_count": 81,
     "metadata": {},
     "output_type": "execute_result"
    }
   ],
   "source": [
    "myDog.humanAge()"
   ]
  },
  {
   "cell_type": "markdown",
   "id": "d81c8d9e",
   "metadata": {},
   "source": [
    "Ekstra metod yazmadan initializer içerisinde de işlemleri yapabiliriz"
   ]
  },
  {
   "cell_type": "code",
   "execution_count": 82,
   "id": "cfe756f5",
   "metadata": {},
   "outputs": [],
   "source": [
    "class Dog():\n",
    "    \n",
    "    year = 7\n",
    "    \n",
    "    def __init__(self,age):\n",
    "        self.age = age\n",
    "        self.dogHumanAge = age * self.year\n",
    "    \n",
    "    def humanAge(self):\n",
    "        return self.age * Dog.year"
   ]
  },
  {
   "cell_type": "code",
   "execution_count": 83,
   "id": "4f1f8332",
   "metadata": {},
   "outputs": [],
   "source": [
    "myDog = Dog(4)"
   ]
  },
  {
   "cell_type": "code",
   "execution_count": 84,
   "id": "83913cf4",
   "metadata": {},
   "outputs": [
    {
     "data": {
      "text/plain": [
       "4"
      ]
     },
     "execution_count": 84,
     "metadata": {},
     "output_type": "execute_result"
    }
   ],
   "source": [
    "myDog.age"
   ]
  },
  {
   "cell_type": "code",
   "execution_count": 85,
   "id": "da85bb0e",
   "metadata": {},
   "outputs": [
    {
     "data": {
      "text/plain": [
       "28"
      ]
     },
     "execution_count": 85,
     "metadata": {},
     "output_type": "execute_result"
    }
   ],
   "source": [
    "myDog.dogHumanAge"
   ]
  },
  {
   "cell_type": "markdown",
   "id": "32c8db8c",
   "metadata": {},
   "source": [
    "Default değer de verebiliriz init methodu içinde."
   ]
  },
  {
   "cell_type": "code",
   "execution_count": null,
   "id": "e4273658",
   "metadata": {},
   "outputs": [],
   "source": []
  }
 ],
 "metadata": {
  "kernelspec": {
   "display_name": "Python 3 (ipykernel)",
   "language": "python",
   "name": "python3"
  },
  "language_info": {
   "codemirror_mode": {
    "name": "ipython",
    "version": 3
   },
   "file_extension": ".py",
   "mimetype": "text/x-python",
   "name": "python",
   "nbconvert_exporter": "python",
   "pygments_lexer": "ipython3",
   "version": "3.9.7"
  }
 },
 "nbformat": 4,
 "nbformat_minor": 5
}
