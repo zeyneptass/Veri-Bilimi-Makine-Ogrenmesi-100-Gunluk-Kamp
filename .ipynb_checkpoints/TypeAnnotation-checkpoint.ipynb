{
 "cells": [
  {
   "cell_type": "markdown",
   "id": "807991ee",
   "metadata": {},
   "source": [
    "# Type Annotation"
   ]
  },
  {
   "cell_type": "code",
   "execution_count": 1,
   "id": "5d191199",
   "metadata": {},
   "outputs": [],
   "source": [
    "name : str = \"Atil\""
   ]
  },
  {
   "cell_type": "code",
   "execution_count": 2,
   "id": "ba122f30",
   "metadata": {},
   "outputs": [
    {
     "data": {
      "text/plain": [
       "str"
      ]
     },
     "execution_count": 2,
     "metadata": {},
     "output_type": "execute_result"
    }
   ],
   "source": [
    "type(name)"
   ]
  },
  {
   "cell_type": "code",
   "execution_count": 3,
   "id": "78dc650c",
   "metadata": {},
   "outputs": [],
   "source": [
    "surname : str = 20"
   ]
  },
  {
   "cell_type": "code",
   "execution_count": 4,
   "id": "adc0b14b",
   "metadata": {},
   "outputs": [
    {
     "data": {
      "text/plain": [
       "int"
      ]
     },
     "execution_count": 4,
     "metadata": {},
     "output_type": "execute_result"
    }
   ],
   "source": [
    "type(surname)"
   ]
  },
  {
   "cell_type": "markdown",
   "id": "3ed0b063",
   "metadata": {},
   "source": [
    "Bunun yapılma sebebi, kod okunabilirliğini artırmak. Diğer dillerde veri tipini öneden verdiğimizde farklı bir türden atama yapamazken python'da böyle bir kısıtlama yoktur."
   ]
  },
  {
   "cell_type": "markdown",
   "id": "a6989857",
   "metadata": {},
   "source": [
    "Bu özellik python'un son versiyonlarında çıkmıştır."
   ]
  },
  {
   "cell_type": "code",
   "execution_count": 5,
   "id": "3c3020c4",
   "metadata": {},
   "outputs": [],
   "source": [
    "def add_numbers(a: int, b:int) -> int:\n",
    "    return a + b"
   ]
  },
  {
   "cell_type": "code",
   "execution_count": 11,
   "id": "c84ada1c",
   "metadata": {},
   "outputs": [
    {
     "data": {
      "text/plain": [
       "9"
      ]
     },
     "execution_count": 11,
     "metadata": {},
     "output_type": "execute_result"
    }
   ],
   "source": [
    "add_numbers(4,5)"
   ]
  },
  {
   "cell_type": "code",
   "execution_count": 15,
   "id": "7b216be3",
   "metadata": {},
   "outputs": [],
   "source": [
    "#python 3.10 ve üzeri için geçerli\n",
    "def process_value(value: int | str) -> str:\n",
    "    if isinstance(value, int):\n",
    "        return f\"processed integer : {value}\"\n",
    "    else:\n",
    "        return f\"processed string : {value}\"\n",
    "    "
   ]
  },
  {
   "cell_type": "markdown",
   "id": "09b1f5a3",
   "metadata": {},
   "source": [
    "isinstance(value,int) ------ isinstance python'da olan yerleşik bir fonksiyondur. Burda value'nun int sınıfından olup olmadığını sorgular."
   ]
  },
  {
   "cell_type": "code",
   "execution_count": 16,
   "id": "7427628e",
   "metadata": {},
   "outputs": [
    {
     "data": {
      "text/plain": [
       "'processed integer : 50'"
      ]
     },
     "execution_count": 16,
     "metadata": {},
     "output_type": "execute_result"
    }
   ],
   "source": [
    "process_value(50)"
   ]
  },
  {
   "cell_type": "code",
   "execution_count": 17,
   "id": "0ca20131",
   "metadata": {},
   "outputs": [
    {
     "data": {
      "text/plain": [
       "'processed string : dfgnfj'"
      ]
     },
     "execution_count": 17,
     "metadata": {},
     "output_type": "execute_result"
    }
   ],
   "source": [
    "process_value(\"dfgnfj\")"
   ]
  },
  {
   "cell_type": "code",
   "execution_count": 18,
   "id": "f6452659-0e1d-432f-ad6a-f76f0819354d",
   "metadata": {},
   "outputs": [],
   "source": [
    "# python 3.9\n",
    "from typing import List\n",
    "\n",
    "def sum_list(numbers:List[int]) -> int:\n",
    "    return sum(numbers)"
   ]
  },
  {
   "cell_type": "code",
   "execution_count": 19,
   "id": "f81995e5-702f-481b-8d30-30ed712420d9",
   "metadata": {},
   "outputs": [],
   "source": [
    "numbers = [1,2,3,4]\n",
    "total = sum_list(numbers)"
   ]
  },
  {
   "cell_type": "code",
   "execution_count": 20,
   "id": "a1411fc8-da1c-43d4-bcfb-d762cdfb0443",
   "metadata": {},
   "outputs": [
    {
     "data": {
      "text/plain": [
       "10"
      ]
     },
     "execution_count": 20,
     "metadata": {},
     "output_type": "execute_result"
    }
   ],
   "source": [
    "total"
   ]
  },
  {
   "cell_type": "code",
   "execution_count": null,
   "id": "c5dcad9c-45ae-44f9-a999-5bcbaf3809f3",
   "metadata": {},
   "outputs": [],
   "source": []
  }
 ],
 "metadata": {
  "kernelspec": {
   "display_name": "Python 3 (ipykernel)",
   "language": "python",
   "name": "python3"
  },
  "language_info": {
   "codemirror_mode": {
    "name": "ipython",
    "version": 3
   },
   "file_extension": ".py",
   "mimetype": "text/x-python",
   "name": "python",
   "nbconvert_exporter": "python",
   "pygments_lexer": "ipython3",
   "version": "3.12.11"
  }
 },
 "nbformat": 4,
 "nbformat_minor": 5
}
