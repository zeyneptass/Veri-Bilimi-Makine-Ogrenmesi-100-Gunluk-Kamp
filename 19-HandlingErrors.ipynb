{
 "cells": [
  {
   "cell_type": "markdown",
   "id": "779b004f",
   "metadata": {},
   "source": [
    "# Handling Errors (Hataları Ele Almak)"
   ]
  },
  {
   "cell_type": "markdown",
   "id": "3dc89061",
   "metadata": {},
   "source": [
    "Kullanıcı girdisi alırken veya database'den veri çekerken hata alabileceğimiz durumlarda hata mesajı döndürmeye yarar."
   ]
  },
  {
   "cell_type": "code",
   "execution_count": 1,
   "id": "132874bf",
   "metadata": {},
   "outputs": [
    {
     "name": "stdout",
     "output_type": "stream",
     "text": [
      "Enter age : atil\n"
     ]
    }
   ],
   "source": [
    "age = input(\"Enter age : \")"
   ]
  },
  {
   "cell_type": "code",
   "execution_count": 2,
   "id": "d36df337",
   "metadata": {},
   "outputs": [
    {
     "data": {
      "text/plain": [
       "'atil'"
      ]
     },
     "execution_count": 2,
     "metadata": {},
     "output_type": "execute_result"
    }
   ],
   "source": [
    "age"
   ]
  },
  {
   "cell_type": "code",
   "execution_count": 3,
   "id": "8ca91fd4",
   "metadata": {},
   "outputs": [
    {
     "ename": "ValueError",
     "evalue": "invalid literal for int() with base 10: 'atil'",
     "output_type": "error",
     "traceback": [
      "\u001b[1;31m---------------------------------------------------------------------------\u001b[0m",
      "\u001b[1;31mValueError\u001b[0m                                Traceback (most recent call last)",
      "\u001b[1;32m~\\AppData\\Local\\Temp/ipykernel_27392/2203405319.py\u001b[0m in \u001b[0;36m<module>\u001b[1;34m\u001b[0m\n\u001b[1;32m----> 1\u001b[1;33m \u001b[0mint\u001b[0m\u001b[1;33m(\u001b[0m\u001b[0mage\u001b[0m\u001b[1;33m)\u001b[0m \u001b[1;33m*\u001b[0m \u001b[1;36m2\u001b[0m\u001b[1;33m\u001b[0m\u001b[1;33m\u001b[0m\u001b[0m\n\u001b[0m",
      "\u001b[1;31mValueError\u001b[0m: invalid literal for int() with base 10: 'atil'"
     ]
    }
   ],
   "source": [
    "int(age) * 2"
   ]
  },
  {
   "cell_type": "markdown",
   "id": "9ae90f26",
   "metadata": {},
   "source": [
    "## try - except"
   ]
  },
  {
   "cell_type": "code",
   "execution_count": 4,
   "id": "365e8862",
   "metadata": {},
   "outputs": [
    {
     "name": "stdout",
     "output_type": "stream",
     "text": [
      "Enter age : atil\n",
      "Enter your age!\n"
     ]
    }
   ],
   "source": [
    "try:\n",
    "    myAge = int(input(\"Enter age : \"))\n",
    "    print(myAge * 2)\n",
    "except:\n",
    "    print(\"Enter your age!\")"
   ]
  },
  {
   "cell_type": "code",
   "execution_count": 5,
   "id": "c3cbe63a",
   "metadata": {},
   "outputs": [
    {
     "name": "stdout",
     "output_type": "stream",
     "text": [
      "Enter age : atil\n",
      "Enter your age!\n"
     ]
    }
   ],
   "source": [
    "try:\n",
    "    myAge = int(input(\"Enter age : \"))\n",
    "    print(myAge * 2)\n",
    "except ValueError:\n",
    "    print(\"Enter your age!\")"
   ]
  },
  {
   "cell_type": "markdown",
   "id": "91fef158",
   "metadata": {},
   "source": [
    "while 1==1:\n",
    "    try:\n",
    "        myAge = int(input(\"Enter age : \"))\n",
    "        print(myAge * 2)\n",
    "        \n",
    "    except:\n",
    "        print(\"Enter your age!\")"
   ]
  },
  {
   "cell_type": "markdown",
   "id": "d13aeccb",
   "metadata": {},
   "source": [
    "While kullandığımız için sürekli olarak kullanıcı girdisi isteyecek break ile sayı girdiği zaman fonskiyonu kıracağımızdan kullanıcı girdisi istemekten vazgeçer"
   ]
  },
  {
   "cell_type": "code",
   "execution_count": 6,
   "id": "15a1ec65",
   "metadata": {},
   "outputs": [
    {
     "name": "stdout",
     "output_type": "stream",
     "text": [
      "Enter age : atil\n",
      "Enter your age!\n",
      "Enter age : zey\n",
      "Enter your age!\n",
      "Enter age : 25\n",
      "50\n"
     ]
    }
   ],
   "source": [
    "while True:\n",
    "    try:\n",
    "        myAge = int(input(\"Enter age : \"))\n",
    "        print(myAge * 2)\n",
    "        break\n",
    "    except:\n",
    "        print(\"Enter your age!\")"
   ]
  },
  {
   "cell_type": "code",
   "execution_count": 7,
   "id": "afb2474a",
   "metadata": {},
   "outputs": [
    {
     "name": "stdout",
     "output_type": "stream",
     "text": [
      "Enter age : atil\n",
      "Enter your age!\n",
      "finally\n",
      "Enter age : age\n",
      "Enter your age!\n",
      "finally\n",
      "Enter age : 35\n",
      "70\n",
      "finally\n"
     ]
    }
   ],
   "source": [
    "while True:\n",
    "    try:\n",
    "        myAge = int(input(\"Enter age : \"))\n",
    "        print(myAge * 2)\n",
    "        break\n",
    "    except:\n",
    "        print(\"Enter your age!\")\n",
    "    else:\n",
    "        print(\"else executed\")\n",
    "    finally:\n",
    "        print(\"finally\")"
   ]
  },
  {
   "cell_type": "markdown",
   "id": "db1515ea",
   "metadata": {},
   "source": [
    "Finally her türlü çalışır"
   ]
  },
  {
   "cell_type": "code",
   "execution_count": 8,
   "id": "595b27f6",
   "metadata": {},
   "outputs": [
    {
     "name": "stdout",
     "output_type": "stream",
     "text": [
      "Enter age : atil\n",
      "Enter your age!\n",
      "finally\n",
      "Enter age : 35\n",
      "70\n",
      "else executed\n",
      "finally\n"
     ]
    }
   ],
   "source": [
    "while True:\n",
    "    try:\n",
    "        myAge = int(input(\"Enter age : \"))\n",
    "        print(myAge * 2)\n",
    "    except:\n",
    "        print(\"Enter your age!\")\n",
    "    else:\n",
    "        print(\"else executed\")\n",
    "        break\n",
    "    finally:\n",
    "        print(\"finally\")"
   ]
  },
  {
   "cell_type": "code",
   "execution_count": null,
   "id": "3e7ea815",
   "metadata": {},
   "outputs": [],
   "source": []
  }
 ],
 "metadata": {
  "kernelspec": {
   "display_name": "Python 3 (ipykernel)",
   "language": "python",
   "name": "python3"
  },
  "language_info": {
   "codemirror_mode": {
    "name": "ipython",
    "version": 3
   },
   "file_extension": ".py",
   "mimetype": "text/x-python",
   "name": "python",
   "nbconvert_exporter": "python",
   "pygments_lexer": "ipython3",
   "version": "3.9.7"
  }
 },
 "nbformat": 4,
 "nbformat_minor": 5
}
