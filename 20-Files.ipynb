{
 "cells": [
  {
   "cell_type": "markdown",
   "id": "4dabc9cc",
   "metadata": {},
   "source": [
    "# Dosyalarla Çalışmak"
   ]
  },
  {
   "cell_type": "markdown",
   "id": "7e5d8c97",
   "metadata": {},
   "source": [
    "çalışacak text dosyası oluşturmak için:"
   ]
  },
  {
   "cell_type": "code",
   "execution_count": 1,
   "id": "c4b49f7f",
   "metadata": {},
   "outputs": [
    {
     "name": "stdout",
     "output_type": "stream",
     "text": [
      "Writing myfile.txt\n"
     ]
    }
   ],
   "source": [
    "%%writefile myfile.txt\n",
    "test 1\n",
    "test 2\n",
    "test 3"
   ]
  },
  {
   "cell_type": "markdown",
   "id": "21f095ec",
   "metadata": {},
   "source": [
    "oluşturduğumuz bu dosya bu notebook dosyası (20-Files) ile aynı dizinde yer alır."
   ]
  },
  {
   "cell_type": "code",
   "execution_count": 2,
   "id": "dea3dc44",
   "metadata": {},
   "outputs": [],
   "source": [
    "myFile = open(\"myfile.txt\")  # aynı klasörde olmasayadı tam yolu yazmamız gerekirdi"
   ]
  },
  {
   "cell_type": "code",
   "execution_count": 3,
   "id": "75ed189b",
   "metadata": {},
   "outputs": [
    {
     "data": {
      "text/plain": [
       "_io.TextIOWrapper"
      ]
     },
     "execution_count": 3,
     "metadata": {},
     "output_type": "execute_result"
    }
   ],
   "source": [
    "type(myFile)"
   ]
  },
  {
   "cell_type": "code",
   "execution_count": 4,
   "id": "24db404b",
   "metadata": {},
   "outputs": [
    {
     "data": {
      "text/plain": [
       "'test 1\\ntest 2\\ntest 3\\n'"
      ]
     },
     "execution_count": 4,
     "metadata": {},
     "output_type": "execute_result"
    }
   ],
   "source": [
    "myFile.read()"
   ]
  },
  {
   "cell_type": "code",
   "execution_count": 5,
   "id": "a1ca05e6",
   "metadata": {},
   "outputs": [
    {
     "data": {
      "text/plain": [
       "''"
      ]
     },
     "execution_count": 5,
     "metadata": {},
     "output_type": "execute_result"
    }
   ],
   "source": [
    "myFile.read()"
   ]
  },
  {
   "cell_type": "markdown",
   "id": "083197e2",
   "metadata": {},
   "source": [
    "read() fonksiyonu myfile'i tek tek okur en sona gelir bu yüzden tekrar bu fonksiyonu çağırdığımızda boş döner yukarıdaki gibi"
   ]
  },
  {
   "cell_type": "markdown",
   "id": "58f289bb",
   "metadata": {},
   "source": [
    "Bu durumu manuel düzeltebiliriz : "
   ]
  },
  {
   "cell_type": "code",
   "execution_count": 7,
   "id": "42c8adee",
   "metadata": {},
   "outputs": [
    {
     "data": {
      "text/plain": [
       "0"
      ]
     },
     "execution_count": 7,
     "metadata": {},
     "output_type": "execute_result"
    }
   ],
   "source": [
    "myFile.seek(0)  # mause en yukarıdaki satıra gelmiş gibi"
   ]
  },
  {
   "cell_type": "code",
   "execution_count": 8,
   "id": "49f2c8e9",
   "metadata": {},
   "outputs": [
    {
     "data": {
      "text/plain": [
       "'test 1\\ntest 2\\ntest 3\\n'"
      ]
     },
     "execution_count": 8,
     "metadata": {},
     "output_type": "execute_result"
    }
   ],
   "source": [
    "myFile.read()"
   ]
  },
  {
   "cell_type": "code",
   "execution_count": 9,
   "id": "9f3c9662",
   "metadata": {},
   "outputs": [],
   "source": [
    "myFile.close() # dosyayı kapatmazsak daha sonra sorun yaşayabiliriz"
   ]
  },
  {
   "cell_type": "markdown",
   "id": "2f7abdfd",
   "metadata": {},
   "source": [
    "### with ile otomatik yapıp manuel kontrol etmekten kurtulabiliriz"
   ]
  },
  {
   "cell_type": "code",
   "execution_count": 10,
   "id": "c19568df",
   "metadata": {},
   "outputs": [],
   "source": [
    "with open(\"myfile.txt\") as myFile:\n",
    "    myContent = myFile.read()"
   ]
  },
  {
   "cell_type": "code",
   "execution_count": 11,
   "id": "f5e63cc9",
   "metadata": {},
   "outputs": [
    {
     "data": {
      "text/plain": [
       "'test 1\\ntest 2\\ntest 3\\n'"
      ]
     },
     "execution_count": 11,
     "metadata": {},
     "output_type": "execute_result"
    }
   ],
   "source": [
    "myContent"
   ]
  },
  {
   "cell_type": "code",
   "execution_count": 12,
   "id": "962efbc1",
   "metadata": {},
   "outputs": [
    {
     "data": {
      "text/plain": [
       "'test 1\\ntest 2\\ntest 3\\n'"
      ]
     },
     "execution_count": 12,
     "metadata": {},
     "output_type": "execute_result"
    }
   ],
   "source": [
    "myContent"
   ]
  },
  {
   "cell_type": "markdown",
   "id": "d1fe8370",
   "metadata": {},
   "source": [
    "Bu dosyanın içeriğini de değiştirebiliriz"
   ]
  },
  {
   "cell_type": "markdown",
   "id": "d390fd67",
   "metadata": {},
   "source": [
    "### mode=\"w\"   -> (write) yazmak için dosyayı açar ve önceki text'leri silip yenisini yazar"
   ]
  },
  {
   "cell_type": "code",
   "execution_count": 13,
   "id": "a1c3879c",
   "metadata": {},
   "outputs": [],
   "source": [
    "with open(\"myfile.txt\",mode=\"w\") as myNewFile:\n",
    "    myNewFile.write(\"test 4\")"
   ]
  },
  {
   "cell_type": "code",
   "execution_count": 14,
   "id": "2f517af0",
   "metadata": {},
   "outputs": [
    {
     "data": {
      "text/plain": [
       "<_io.TextIOWrapper name='myfile.txt' mode='w' encoding='cp1254'>"
      ]
     },
     "execution_count": 14,
     "metadata": {},
     "output_type": "execute_result"
    }
   ],
   "source": [
    "myNewFile"
   ]
  },
  {
   "cell_type": "markdown",
   "id": "cf80ef81",
   "metadata": {},
   "source": [
    "### mode=\"r\"   ->  (read)  sadece okumak için dosyayı açar değiştirilmemesi gereken dosyalarda kullanılır"
   ]
  },
  {
   "cell_type": "code",
   "execution_count": 15,
   "id": "4b7610e1",
   "metadata": {},
   "outputs": [],
   "source": [
    "with open(\"myfile.txt\",mode=\"r\") as myFile2:\n",
    "    myContent = myFile2.read()"
   ]
  },
  {
   "cell_type": "code",
   "execution_count": 16,
   "id": "27bf9273",
   "metadata": {},
   "outputs": [
    {
     "data": {
      "text/plain": [
       "'test 4'"
      ]
     },
     "execution_count": 16,
     "metadata": {},
     "output_type": "execute_result"
    }
   ],
   "source": [
    "myContent"
   ]
  },
  {
   "cell_type": "markdown",
   "id": "0b484df5",
   "metadata": {},
   "source": [
    "### mode=\"a\"  -> (append) eklemek"
   ]
  },
  {
   "cell_type": "code",
   "execution_count": 18,
   "id": "a28a1dce",
   "metadata": {},
   "outputs": [],
   "source": [
    "with open(\"myfile.txt\",mode=\"a\") as myFile3:\n",
    "    myFile3.write(\"test 5\")"
   ]
  },
  {
   "cell_type": "code",
   "execution_count": 19,
   "id": "be3e0613",
   "metadata": {},
   "outputs": [],
   "source": [
    "with open(\"myfile.txt\",mode=\"r\") as myFile3:\n",
    "    myContent = myFile3.read()"
   ]
  },
  {
   "cell_type": "code",
   "execution_count": 20,
   "id": "9527e09b",
   "metadata": {},
   "outputs": [
    {
     "data": {
      "text/plain": [
       "'test 4test 5'"
      ]
     },
     "execution_count": 20,
     "metadata": {},
     "output_type": "execute_result"
    }
   ],
   "source": [
    "myContent"
   ]
  },
  {
   "cell_type": "markdown",
   "id": "e89a5e54",
   "metadata": {},
   "source": [
    "Yukarıdaki gibi değişken isimlerini sürekli değiştirmek zorunda değiliz."
   ]
  },
  {
   "cell_type": "code",
   "execution_count": null,
   "id": "cd0be3d0",
   "metadata": {},
   "outputs": [],
   "source": []
  }
 ],
 "metadata": {
  "kernelspec": {
   "display_name": "Python 3 (ipykernel)",
   "language": "python",
   "name": "python3"
  },
  "language_info": {
   "codemirror_mode": {
    "name": "ipython",
    "version": 3
   },
   "file_extension": ".py",
   "mimetype": "text/x-python",
   "name": "python",
   "nbconvert_exporter": "python",
   "pygments_lexer": "ipython3",
   "version": "3.9.7"
  }
 },
 "nbformat": 4,
 "nbformat_minor": 5
}
