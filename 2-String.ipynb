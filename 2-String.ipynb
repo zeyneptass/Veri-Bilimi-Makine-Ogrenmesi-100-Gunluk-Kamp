{
 "cells": [
  {
   "cell_type": "markdown",
   "id": "17b1c8b2",
   "metadata": {},
   "source": [
    "# String Variable"
   ]
  },
  {
   "cell_type": "markdown",
   "id": "e41ffc8c",
   "metadata": {},
   "source": [
    "Tırnak içerisinde yazılır. Tek tırnak ve çift tırnak ile tanımlanabilir."
   ]
  },
  {
   "cell_type": "code",
   "execution_count": 9,
   "id": "21a820a4",
   "metadata": {},
   "outputs": [
    {
     "data": {
      "text/plain": [
       "'hello world!'"
      ]
     },
     "execution_count": 9,
     "metadata": {},
     "output_type": "execute_result"
    }
   ],
   "source": [
    "\"hello world!\""
   ]
  },
  {
   "cell_type": "markdown",
   "id": "cce97a5d",
   "metadata": {},
   "source": [
    "Python'da çıktı alabilmek için print() fonksiyonu kullanılır."
   ]
  },
  {
   "cell_type": "code",
   "execution_count": 10,
   "id": "bf405de8",
   "metadata": {},
   "outputs": [
    {
     "name": "stdout",
     "output_type": "stream",
     "text": [
      "Hello python\n"
     ]
    }
   ],
   "source": [
    "print(\"Hello python\")"
   ]
  },
  {
   "cell_type": "markdown",
   "id": "4588cb67",
   "metadata": {},
   "source": [
    "String Tipi farklı fonksiyonlar sunar."
   ]
  },
  {
   "cell_type": "code",
   "execution_count": 11,
   "id": "e8e55d7e",
   "metadata": {},
   "outputs": [],
   "source": [
    "name = \"atıl\""
   ]
  },
  {
   "cell_type": "code",
   "execution_count": 12,
   "id": "2318ae52",
   "metadata": {},
   "outputs": [
    {
     "data": {
      "text/plain": [
       "str"
      ]
     },
     "execution_count": 12,
     "metadata": {},
     "output_type": "execute_result"
    }
   ],
   "source": [
    "type(name)"
   ]
  },
  {
   "cell_type": "code",
   "execution_count": 13,
   "id": "f15e7a2f",
   "metadata": {},
   "outputs": [
    {
     "data": {
      "text/plain": [
       "'atil cafe'"
      ]
     },
     "execution_count": 13,
     "metadata": {},
     "output_type": "execute_result"
    }
   ],
   "source": [
    "'atil cafe'"
   ]
  },
  {
   "cell_type": "markdown",
   "id": "221a3579",
   "metadata": {},
   "source": [
    "Apostrofe (kesme işareti) kullanabilmek için çift tırnak içinde değişken tanımlanmalıdır."
   ]
  },
  {
   "cell_type": "code",
   "execution_count": 14,
   "id": "87863f15",
   "metadata": {},
   "outputs": [
    {
     "data": {
      "text/plain": [
       "\"atil's restaurant\""
      ]
     },
     "execution_count": 14,
     "metadata": {},
     "output_type": "execute_result"
    }
   ],
   "source": [
    "\"atil's restaurant\""
   ]
  },
  {
   "cell_type": "code",
   "execution_count": 15,
   "id": "e1d39bd2",
   "metadata": {},
   "outputs": [],
   "source": [
    "name = \"zeynep taş\""
   ]
  },
  {
   "cell_type": "code",
   "execution_count": 16,
   "id": "c88eb0eb",
   "metadata": {},
   "outputs": [
    {
     "data": {
      "text/plain": [
       "'Zeynep taş'"
      ]
     },
     "execution_count": 16,
     "metadata": {},
     "output_type": "execute_result"
    }
   ],
   "source": [
    "name.capitalize()"
   ]
  },
  {
   "cell_type": "markdown",
   "id": "ba693707",
   "metadata": {},
   "source": [
    "## String Metodları"
   ]
  },
  {
   "cell_type": "code",
   "execution_count": 17,
   "id": "540ee21f",
   "metadata": {},
   "outputs": [
    {
     "data": {
      "text/plain": [
       "'zeynep taş'"
      ]
     },
     "execution_count": 17,
     "metadata": {},
     "output_type": "execute_result"
    }
   ],
   "source": [
    "name"
   ]
  },
  {
   "cell_type": "markdown",
   "id": "bd89cb84",
   "metadata": {},
   "source": [
    "help ile fonksiyonlar hakkında ipucu alabiliriz."
   ]
  },
  {
   "cell_type": "code",
   "execution_count": 18,
   "id": "521520bf",
   "metadata": {},
   "outputs": [
    {
     "name": "stdout",
     "output_type": "stream",
     "text": [
      "Help on built-in function count:\n",
      "\n",
      "count(...) method of builtins.str instance\n",
      "    S.count(sub[, start[, end]]) -> int\n",
      "    \n",
      "    Return the number of non-overlapping occurrences of substring sub in\n",
      "    string S[start:end].  Optional arguments start and end are\n",
      "    interpreted as in slice notation.\n",
      "\n"
     ]
    }
   ],
   "source": [
    "help(name.count)"
   ]
  },
  {
   "cell_type": "markdown",
   "id": "ed23a5e3",
   "metadata": {},
   "source": [
    "### count()"
   ]
  },
  {
   "cell_type": "markdown",
   "id": "e6fe297b",
   "metadata": {},
   "source": [
    "String içindeki bir karakterin kaç tane olduğunu bulmak için count() kullanılır."
   ]
  },
  {
   "cell_type": "code",
   "execution_count": 19,
   "id": "2a89e8da",
   "metadata": {},
   "outputs": [
    {
     "data": {
      "text/plain": [
       "2"
      ]
     },
     "execution_count": 19,
     "metadata": {},
     "output_type": "execute_result"
    }
   ],
   "source": [
    "name.count('e')"
   ]
  },
  {
   "cell_type": "markdown",
   "id": "27917912",
   "metadata": {},
   "source": [
    "### upper()"
   ]
  },
  {
   "cell_type": "markdown",
   "id": "140656c9",
   "metadata": {},
   "source": [
    "String içindeki bütün harfleri büyük harf yapar. "
   ]
  },
  {
   "cell_type": "code",
   "execution_count": 20,
   "id": "bfff5665",
   "metadata": {},
   "outputs": [
    {
     "data": {
      "text/plain": [
       "'ZEYNEP TAŞ'"
      ]
     },
     "execution_count": 20,
     "metadata": {},
     "output_type": "execute_result"
    }
   ],
   "source": [
    "name.upper()"
   ]
  },
  {
   "cell_type": "markdown",
   "id": "6e8ee4ef",
   "metadata": {},
   "source": [
    "String'in orijinal değerini değiştirmez. name değeri yine aynı kalır."
   ]
  },
  {
   "cell_type": "code",
   "execution_count": 21,
   "id": "4d564121",
   "metadata": {},
   "outputs": [
    {
     "data": {
      "text/plain": [
       "'zeynep taş'"
      ]
     },
     "execution_count": 21,
     "metadata": {},
     "output_type": "execute_result"
    }
   ],
   "source": [
    "name"
   ]
  },
  {
   "cell_type": "markdown",
   "id": "d129293f",
   "metadata": {},
   "source": [
    "name değeri değişmediğinden fonksiyonlarla oluşturduğumuz yeni değerleri kaydetmek için yeni bir değişkende atamamız gerekir."
   ]
  },
  {
   "cell_type": "code",
   "execution_count": 22,
   "id": "957dcd74",
   "metadata": {},
   "outputs": [
    {
     "data": {
      "text/plain": [
       "'ZEYNEP TAŞ'"
      ]
     },
     "execution_count": 22,
     "metadata": {},
     "output_type": "execute_result"
    }
   ],
   "source": [
    "nameUpper = name.upper()\n",
    "nameUpper"
   ]
  },
  {
   "cell_type": "code",
   "execution_count": 23,
   "id": "0fa95066",
   "metadata": {},
   "outputs": [
    {
     "name": "stdout",
     "output_type": "stream",
     "text": [
      "Help on built-in function upper:\n",
      "\n",
      "upper() method of builtins.str instance\n",
      "    Return a copy of the string converted to uppercase.\n",
      "\n"
     ]
    }
   ],
   "source": [
    "help(name.upper)"
   ]
  },
  {
   "cell_type": "markdown",
   "id": "a66bcfa7",
   "metadata": {},
   "source": [
    "Yukarıdaki return anahtar kelimesi ile yeni değer döndürmediğini döndürmesi için başka değişkene atamamız gerektiğini görürüz."
   ]
  },
  {
   "cell_type": "markdown",
   "id": "f6a10665",
   "metadata": {},
   "source": [
    "### len()"
   ]
  },
  {
   "cell_type": "markdown",
   "id": "09d4ac48",
   "metadata": {},
   "source": [
    "String'in içindeki karakter sayısını verir."
   ]
  },
  {
   "cell_type": "code",
   "execution_count": 24,
   "id": "6ab1e5f2",
   "metadata": {},
   "outputs": [
    {
     "data": {
      "text/plain": [
       "10"
      ]
     },
     "execution_count": 24,
     "metadata": {},
     "output_type": "execute_result"
    }
   ],
   "source": [
    "len(name)"
   ]
  },
  {
   "cell_type": "markdown",
   "id": "b6c81e20",
   "metadata": {},
   "source": [
    "## Escape Karakterleri :"
   ]
  },
  {
   "cell_type": "markdown",
   "id": "45853a93",
   "metadata": {},
   "source": [
    "\n",
    "1. \\n -> alt satıra yazar\n",
    "2. \\t -> tab boşluk bırakır"
   ]
  },
  {
   "cell_type": "code",
   "execution_count": 25,
   "id": "6bafb6bc",
   "metadata": {},
   "outputs": [
    {
     "name": "stdout",
     "output_type": "stream",
     "text": [
      "zeynep \n",
      "taş\n"
     ]
    }
   ],
   "source": [
    "print(\"zeynep \\ntaş\")"
   ]
  },
  {
   "cell_type": "code",
   "execution_count": 26,
   "id": "c0d8ce4c",
   "metadata": {},
   "outputs": [
    {
     "name": "stdout",
     "output_type": "stream",
     "text": [
      "zeynep \ttaş\n"
     ]
    }
   ],
   "source": [
    "print(\"zeynep \\ttaş\")"
   ]
  },
  {
   "cell_type": "markdown",
   "id": "d4891229",
   "metadata": {},
   "source": [
    "## index"
   ]
  },
  {
   "cell_type": "code",
   "execution_count": 27,
   "id": "371ad766",
   "metadata": {},
   "outputs": [],
   "source": [
    "myString = \"hello python\""
   ]
  },
  {
   "cell_type": "code",
   "execution_count": 28,
   "id": "8f9eed32",
   "metadata": {},
   "outputs": [
    {
     "data": {
      "text/plain": [
       "'o'"
      ]
     },
     "execution_count": 28,
     "metadata": {},
     "output_type": "execute_result"
    }
   ],
   "source": [
    "myString[4]"
   ]
  },
  {
   "cell_type": "code",
   "execution_count": 29,
   "id": "d7609993",
   "metadata": {},
   "outputs": [
    {
     "data": {
      "text/plain": [
       "'n'"
      ]
     },
     "execution_count": 29,
     "metadata": {},
     "output_type": "execute_result"
    }
   ],
   "source": [
    "myString[11]"
   ]
  },
  {
   "cell_type": "markdown",
   "id": "ef56330c",
   "metadata": {},
   "source": [
    "12. index olmadığı için aşağıdaki kodda \"index out of range\" hatası verir."
   ]
  },
  {
   "cell_type": "code",
   "execution_count": 30,
   "id": "9b7ea092",
   "metadata": {},
   "outputs": [
    {
     "ename": "IndexError",
     "evalue": "string index out of range",
     "output_type": "error",
     "traceback": [
      "\u001b[1;31m---------------------------------------------------------------------------\u001b[0m",
      "\u001b[1;31mIndexError\u001b[0m                                Traceback (most recent call last)",
      "\u001b[1;32m~\\AppData\\Local\\Temp/ipykernel_7832/1446821784.py\u001b[0m in \u001b[0;36m<module>\u001b[1;34m\u001b[0m\n\u001b[1;32m----> 1\u001b[1;33m \u001b[0mmyString\u001b[0m\u001b[1;33m[\u001b[0m\u001b[1;36m12\u001b[0m\u001b[1;33m]\u001b[0m\u001b[1;33m\u001b[0m\u001b[1;33m\u001b[0m\u001b[0m\n\u001b[0m",
      "\u001b[1;31mIndexError\u001b[0m: string index out of range"
     ]
    }
   ],
   "source": [
    "myString[12]"
   ]
  },
  {
   "cell_type": "code",
   "execution_count": 31,
   "id": "73c95d1f",
   "metadata": {},
   "outputs": [
    {
     "data": {
      "text/plain": [
       "12"
      ]
     },
     "execution_count": 31,
     "metadata": {},
     "output_type": "execute_result"
    }
   ],
   "source": [
    "len(myString)"
   ]
  },
  {
   "cell_type": "markdown",
   "id": "590b574f",
   "metadata": {},
   "source": [
    "### Son index'in kaçıncı index olduğunu bulma"
   ]
  },
  {
   "cell_type": "code",
   "execution_count": 32,
   "id": "07026f81",
   "metadata": {},
   "outputs": [
    {
     "data": {
      "text/plain": [
       "11"
      ]
     },
     "execution_count": 32,
     "metadata": {},
     "output_type": "execute_result"
    }
   ],
   "source": [
    "len(myString) -1  # son index'i verir"
   ]
  },
  {
   "cell_type": "code",
   "execution_count": 7,
   "id": "9ef7d5ea",
   "metadata": {},
   "outputs": [],
   "source": [
    "myName = \"james hetfield\""
   ]
  },
  {
   "cell_type": "markdown",
   "id": "59ef64a7",
   "metadata": {},
   "source": [
    "### Son index'in değerini bulma"
   ]
  },
  {
   "cell_type": "code",
   "execution_count": 8,
   "id": "640f6cc3",
   "metadata": {},
   "outputs": [
    {
     "data": {
      "text/plain": [
       "'d'"
      ]
     },
     "execution_count": 8,
     "metadata": {},
     "output_type": "execute_result"
    }
   ],
   "source": [
    "myName[len(myName) -1]"
   ]
  },
  {
   "cell_type": "markdown",
   "id": "dd279b8c",
   "metadata": {},
   "source": [
    "Aşağıdaki kullanımlar python'a özel durumlardır diğer çoğu programlama dilinde yoktur."
   ]
  },
  {
   "cell_type": "code",
   "execution_count": 33,
   "id": "30332405",
   "metadata": {},
   "outputs": [
    {
     "data": {
      "text/plain": [
       "'d'"
      ]
     },
     "execution_count": 33,
     "metadata": {},
     "output_type": "execute_result"
    }
   ],
   "source": [
    "myName[-1]  # son index'in değerini verir"
   ]
  },
  {
   "cell_type": "code",
   "execution_count": 34,
   "id": "87d0bdcb",
   "metadata": {},
   "outputs": [
    {
     "data": {
      "text/plain": [
       "'l'"
      ]
     },
     "execution_count": 34,
     "metadata": {},
     "output_type": "execute_result"
    }
   ],
   "source": [
    "myName[-2] # sondan bir önceki index'in değerini verir"
   ]
  },
  {
   "cell_type": "code",
   "execution_count": 14,
   "id": "e4c91304",
   "metadata": {},
   "outputs": [],
   "source": [
    "barcode = \"ABCDE123123982\""
   ]
  },
  {
   "cell_type": "code",
   "execution_count": 15,
   "id": "3eb4093d",
   "metadata": {},
   "outputs": [
    {
     "data": {
      "text/plain": [
       "'A'"
      ]
     },
     "execution_count": 15,
     "metadata": {},
     "output_type": "execute_result"
    }
   ],
   "source": [
    "barcode[0]"
   ]
  },
  {
   "cell_type": "code",
   "execution_count": 16,
   "id": "0d50a539",
   "metadata": {},
   "outputs": [
    {
     "data": {
      "text/plain": [
       "'B'"
      ]
     },
     "execution_count": 16,
     "metadata": {},
     "output_type": "execute_result"
    }
   ],
   "source": [
    "barcode[1]"
   ]
  },
  {
   "cell_type": "code",
   "execution_count": 17,
   "id": "f4cd6a77",
   "metadata": {},
   "outputs": [
    {
     "data": {
      "text/plain": [
       "'C'"
      ]
     },
     "execution_count": 17,
     "metadata": {},
     "output_type": "execute_result"
    }
   ],
   "source": [
    "barcode[2]"
   ]
  },
  {
   "cell_type": "markdown",
   "id": "ef554d4a",
   "metadata": {},
   "source": [
    "### String'lerde toplama"
   ]
  },
  {
   "cell_type": "code",
   "execution_count": 18,
   "id": "25b1ee87",
   "metadata": {},
   "outputs": [
    {
     "data": {
      "text/plain": [
       "'AB'"
      ]
     },
     "execution_count": 18,
     "metadata": {},
     "output_type": "execute_result"
    }
   ],
   "source": [
    "\"A\" + \"B\""
   ]
  },
  {
   "cell_type": "code",
   "execution_count": 19,
   "id": "dd2ca2aa",
   "metadata": {},
   "outputs": [],
   "source": [
    "name = \"atil\""
   ]
  },
  {
   "cell_type": "code",
   "execution_count": 20,
   "id": "dae9aa2e",
   "metadata": {},
   "outputs": [],
   "source": [
    "surname = \"samancioglu\""
   ]
  },
  {
   "cell_type": "code",
   "execution_count": 21,
   "id": "0cc11beb",
   "metadata": {},
   "outputs": [],
   "source": [
    "fullName = name + \" \" + surname"
   ]
  },
  {
   "cell_type": "code",
   "execution_count": 22,
   "id": "75712635",
   "metadata": {},
   "outputs": [
    {
     "data": {
      "text/plain": [
       "'atil samancioglu'"
      ]
     },
     "execution_count": 22,
     "metadata": {},
     "output_type": "execute_result"
    }
   ],
   "source": [
    "fullName"
   ]
  },
  {
   "cell_type": "markdown",
   "id": "396e208c",
   "metadata": {},
   "source": [
    "Python'da stringlerle çarpma işlemi yapılır. Çarpılan sayı kadar striing tekrar edr"
   ]
  },
  {
   "cell_type": "code",
   "execution_count": 23,
   "id": "0fe93857",
   "metadata": {},
   "outputs": [
    {
     "data": {
      "text/plain": [
       "'atil samanciogluatil samanciogluatil samanciogluatil samanciogluatil samancioglu'"
      ]
     },
     "execution_count": 23,
     "metadata": {},
     "output_type": "execute_result"
    }
   ],
   "source": [
    "fullName * 5"
   ]
  },
  {
   "cell_type": "code",
   "execution_count": 24,
   "id": "48c25836",
   "metadata": {},
   "outputs": [
    {
     "data": {
      "text/plain": [
       "'aaaaaaaaaaaaaaaaaaaaaaaaaaaaaaaaaaaaaaaaaaaaaaaaaaaaaaaaaaaaaaaaaaaaaaaaaaaaaaaaaaaaaaaaaaaaaaaaaaaa'"
      ]
     },
     "execution_count": 24,
     "metadata": {},
     "output_type": "execute_result"
    }
   ],
   "source": [
    "100 * \"a\""
   ]
  },
  {
   "cell_type": "code",
   "execution_count": 25,
   "id": "af376c66",
   "metadata": {},
   "outputs": [
    {
     "ename": "TypeError",
     "evalue": "unsupported operand type(s) for /: 'str' and 'int'",
     "output_type": "error",
     "traceback": [
      "\u001b[1;31m---------------------------------------------------------------------------\u001b[0m",
      "\u001b[1;31mTypeError\u001b[0m                                 Traceback (most recent call last)",
      "\u001b[1;32m~\\AppData\\Local\\Temp/ipykernel_9520/2205222040.py\u001b[0m in \u001b[0;36m<module>\u001b[1;34m\u001b[0m\n\u001b[1;32m----> 1\u001b[1;33m \u001b[0mfullName\u001b[0m \u001b[1;33m/\u001b[0m \u001b[1;36m5\u001b[0m\u001b[1;33m\u001b[0m\u001b[1;33m\u001b[0m\u001b[0m\n\u001b[0m",
      "\u001b[1;31mTypeError\u001b[0m: unsupported operand type(s) for /: 'str' and 'int'"
     ]
    }
   ],
   "source": [
    "fullName / 5"
   ]
  },
  {
   "cell_type": "markdown",
   "id": "868a2054",
   "metadata": {},
   "source": [
    "Mantıken string'lerde bölme işlemi olmaz."
   ]
  },
  {
   "cell_type": "code",
   "execution_count": 26,
   "id": "1d57534b",
   "metadata": {},
   "outputs": [
    {
     "ename": "TypeError",
     "evalue": "unsupported operand type(s) for -: 'str' and 'int'",
     "output_type": "error",
     "traceback": [
      "\u001b[1;31m---------------------------------------------------------------------------\u001b[0m",
      "\u001b[1;31mTypeError\u001b[0m                                 Traceback (most recent call last)",
      "\u001b[1;32m~\\AppData\\Local\\Temp/ipykernel_9520/228550125.py\u001b[0m in \u001b[0;36m<module>\u001b[1;34m\u001b[0m\n\u001b[1;32m----> 1\u001b[1;33m \u001b[0mfullName\u001b[0m \u001b[1;33m-\u001b[0m \u001b[1;36m5\u001b[0m\u001b[1;33m\u001b[0m\u001b[1;33m\u001b[0m\u001b[0m\n\u001b[0m",
      "\u001b[1;31mTypeError\u001b[0m: unsupported operand type(s) for -: 'str' and 'int'"
     ]
    }
   ],
   "source": [
    "fullName - 5"
   ]
  },
  {
   "cell_type": "markdown",
   "id": "e2e0bdca",
   "metadata": {},
   "source": [
    "Aşağıda string'lerin index'lerini alarak topladım"
   ]
  },
  {
   "cell_type": "code",
   "execution_count": 27,
   "id": "48b02922",
   "metadata": {},
   "outputs": [
    {
     "data": {
      "text/plain": [
       "'ABC'"
      ]
     },
     "execution_count": 27,
     "metadata": {},
     "output_type": "execute_result"
    }
   ],
   "source": [
    "barcode[0] +barcode[1] + barcode[2]"
   ]
  },
  {
   "cell_type": "markdown",
   "id": "d40dc9b0",
   "metadata": {},
   "source": [
    "## Slicing "
   ]
  },
  {
   "cell_type": "markdown",
   "id": "d225c16a",
   "metadata": {},
   "source": [
    "Syntax'ı aşağıdaki gibidir."
   ]
  },
  {
   "cell_type": "markdown",
   "id": "fe36c568",
   "metadata": {},
   "source": [
    "#### [starting index : stopping index : stepping index]"
   ]
  },
  {
   "cell_type": "code",
   "execution_count": 28,
   "id": "fb044b53",
   "metadata": {},
   "outputs": [
    {
     "data": {
      "text/plain": [
       "'ABCDE123123982'"
      ]
     },
     "execution_count": 28,
     "metadata": {},
     "output_type": "execute_result"
    }
   ],
   "source": [
    "barcode"
   ]
  },
  {
   "cell_type": "markdown",
   "id": "c59a13bc",
   "metadata": {},
   "source": [
    "Aşağıdaki kullanımda bütün string değerlerini alır."
   ]
  },
  {
   "cell_type": "code",
   "execution_count": 29,
   "id": "06b50c86",
   "metadata": {},
   "outputs": [
    {
     "data": {
      "text/plain": [
       "'ABCDE123123982'"
      ]
     },
     "execution_count": 29,
     "metadata": {},
     "output_type": "execute_result"
    }
   ],
   "source": [
    "barcode[::]"
   ]
  },
  {
   "cell_type": "code",
   "execution_count": 30,
   "id": "b090284f",
   "metadata": {},
   "outputs": [],
   "source": [
    "#barcode[starting index : stopping index : stepping index ]"
   ]
  },
  {
   "cell_type": "markdown",
   "id": "491ba666",
   "metadata": {},
   "source": [
    "Aşağıda 3.index ve sonrasını tamamen alır"
   ]
  },
  {
   "cell_type": "code",
   "execution_count": 31,
   "id": "fd866f62",
   "metadata": {},
   "outputs": [
    {
     "data": {
      "text/plain": [
       "'DE123123982'"
      ]
     },
     "execution_count": 31,
     "metadata": {},
     "output_type": "execute_result"
    }
   ],
   "source": [
    "barcode[3::]"
   ]
  },
  {
   "cell_type": "markdown",
   "id": "3d342c0b",
   "metadata": {},
   "source": [
    "Sadece stopping index verilmiş yani 3. index kadar olan değerleri girer 3. INDEX DAHİL DEĞİL\n"
   ]
  },
  {
   "cell_type": "code",
   "execution_count": 32,
   "id": "b193b99b",
   "metadata": {},
   "outputs": [
    {
     "data": {
      "text/plain": [
       "'ABC'"
      ]
     },
     "execution_count": 32,
     "metadata": {},
     "output_type": "execute_result"
    }
   ],
   "source": [
    "barcode[:3:]"
   ]
  },
  {
   "cell_type": "markdown",
   "id": "32a84bb4",
   "metadata": {},
   "source": [
    "- STARTING INDEX - INCLUDING (Dahil) \n",
    "- STOPPING INDEX - EXCLUSİVE (Dahil Değil)"
   ]
  },
  {
   "cell_type": "markdown",
   "id": "a3d91460",
   "metadata": {},
   "source": [
    "Son index kaç adım atlayacağını verir: örneğin aşağıda 2 adımda bir atlar yani A aldı B almadı.."
   ]
  },
  {
   "cell_type": "code",
   "execution_count": 34,
   "id": "2480855d",
   "metadata": {},
   "outputs": [
    {
     "data": {
      "text/plain": [
       "'ACE2138'"
      ]
     },
     "execution_count": 34,
     "metadata": {},
     "output_type": "execute_result"
    }
   ],
   "source": [
    "barcode[::2]"
   ]
  },
  {
   "cell_type": "code",
   "execution_count": 35,
   "id": "785b7d43",
   "metadata": {},
   "outputs": [
    {
     "data": {
      "text/plain": [
       "'AD228'"
      ]
     },
     "execution_count": 35,
     "metadata": {},
     "output_type": "execute_result"
    }
   ],
   "source": [
    "barcode[::3]"
   ]
  },
  {
   "cell_type": "markdown",
   "id": "640dd981",
   "metadata": {},
   "source": [
    "DE değerini almak için"
   ]
  },
  {
   "cell_type": "code",
   "execution_count": 36,
   "id": "c0d82279",
   "metadata": {},
   "outputs": [
    {
     "data": {
      "text/plain": [
       "'DE'"
      ]
     },
     "execution_count": 36,
     "metadata": {},
     "output_type": "execute_result"
    }
   ],
   "source": [
    "barcode[3:5:]"
   ]
  },
  {
   "cell_type": "markdown",
   "id": "7a34a38f",
   "metadata": {},
   "source": [
    "Stepping size belirtmek zorunda değiliz"
   ]
  },
  {
   "cell_type": "markdown",
   "id": "721dc10b",
   "metadata": {},
   "source": [
    "Aşağıda 3. ve 5. index arasını alır 5 dahil değil"
   ]
  },
  {
   "cell_type": "code",
   "execution_count": 37,
   "id": "3ea3e4c1",
   "metadata": {},
   "outputs": [
    {
     "data": {
      "text/plain": [
       "'DE'"
      ]
     },
     "execution_count": 37,
     "metadata": {},
     "output_type": "execute_result"
    }
   ],
   "source": [
    "barcode[3:5]"
   ]
  },
  {
   "cell_type": "markdown",
   "id": "52f0a323",
   "metadata": {},
   "source": [
    "stepping size -1 dediğimizde string değerini ters çevirir ama orijinal string'i değiştirmez"
   ]
  },
  {
   "cell_type": "code",
   "execution_count": 38,
   "id": "48773741",
   "metadata": {},
   "outputs": [
    {
     "data": {
      "text/plain": [
       "'289321321EDCBA'"
      ]
     },
     "execution_count": 38,
     "metadata": {},
     "output_type": "execute_result"
    }
   ],
   "source": [
    "barcode[::-1]"
   ]
  },
  {
   "cell_type": "code",
   "execution_count": 39,
   "id": "efbb5266",
   "metadata": {},
   "outputs": [
    {
     "data": {
      "text/plain": [
       "'ABCDE123123982'"
      ]
     },
     "execution_count": 39,
     "metadata": {},
     "output_type": "execute_result"
    }
   ],
   "source": [
    "barcode"
   ]
  },
  {
   "cell_type": "code",
   "execution_count": 40,
   "id": "42583399",
   "metadata": {},
   "outputs": [],
   "source": [
    "name = \"atil samancioglu\""
   ]
  },
  {
   "cell_type": "code",
   "execution_count": 44,
   "id": "1d5e23cf",
   "metadata": {},
   "outputs": [
    {
     "name": "stdout",
     "output_type": "stream",
     "text": [
      "Help on built-in function index:\n",
      "\n",
      "index(...) method of builtins.str instance\n",
      "    S.index(sub[, start[, end]]) -> int\n",
      "    \n",
      "    Return the lowest index in S where substring sub is found,\n",
      "    such that sub is contained within S[start:end].  Optional\n",
      "    arguments start and end are interpreted as in slice notation.\n",
      "    \n",
      "    Raises ValueError when the substring is not found.\n",
      "\n"
     ]
    }
   ],
   "source": [
    "help(name.index)  # harfin index değerini verir"
   ]
  },
  {
   "cell_type": "code",
   "execution_count": 45,
   "id": "b865fd14",
   "metadata": {},
   "outputs": [
    {
     "data": {
      "text/plain": [
       "5"
      ]
     },
     "execution_count": 45,
     "metadata": {},
     "output_type": "execute_result"
    }
   ],
   "source": [
    "name.index(\"s\")"
   ]
  },
  {
   "cell_type": "markdown",
   "id": "cf4408d6",
   "metadata": {},
   "source": [
    "### split()"
   ]
  },
  {
   "cell_type": "markdown",
   "id": "c0464938",
   "metadata": {},
   "source": [
    "Boş karakterden iki ayrı string değere ayırır ve bunları bir list'e atar."
   ]
  },
  {
   "cell_type": "code",
   "execution_count": 47,
   "id": "2b5b079e",
   "metadata": {},
   "outputs": [
    {
     "data": {
      "text/plain": [
       "['atil', 'samancioglu']"
      ]
     },
     "execution_count": 47,
     "metadata": {},
     "output_type": "execute_result"
    }
   ],
   "source": [
    "name.split()"
   ]
  },
  {
   "cell_type": "markdown",
   "id": "c77dcd65",
   "metadata": {},
   "source": [
    "split sonucunda list type döndürür"
   ]
  },
  {
   "cell_type": "code",
   "execution_count": 50,
   "id": "7b8b5722",
   "metadata": {},
   "outputs": [
    {
     "data": {
      "text/plain": [
       "list"
      ]
     },
     "execution_count": 50,
     "metadata": {},
     "output_type": "execute_result"
    }
   ],
   "source": [
    "type(name.split())"
   ]
  }
 ],
 "metadata": {
  "kernelspec": {
   "display_name": "Python 3 (ipykernel)",
   "language": "python",
   "name": "python3"
  },
  "language_info": {
   "codemirror_mode": {
    "name": "ipython",
    "version": 3
   },
   "file_extension": ".py",
   "mimetype": "text/x-python",
   "name": "python",
   "nbconvert_exporter": "python",
   "pygments_lexer": "ipython3",
   "version": "3.9.7"
  }
 },
 "nbformat": 4,
 "nbformat_minor": 5
}
